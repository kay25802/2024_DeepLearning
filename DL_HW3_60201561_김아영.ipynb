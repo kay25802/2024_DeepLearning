{
  "nbformat": 4,
  "nbformat_minor": 0,
  "metadata": {
    "colab": {
      "provenance": [],
      "gpuType": "T4"
    },
    "kernelspec": {
      "name": "python3",
      "display_name": "Python 3"
    },
    "language_info": {
      "name": "python"
    },
    "accelerator": "GPU"
  },
  "cells": [
    {
      "cell_type": "markdown",
      "source": [
        "##DL_HW3_60201561_김아영"
      ],
      "metadata": {
        "id": "-KQ2wJAdziIJ"
      }
    },
    {
      "cell_type": "markdown",
      "source": [
        "## FashionMNIST data를 활용하여 아래 질문들에 대한 코드와 답을 작성하세요."
      ],
      "metadata": {
        "id": "Q39zuwzmzow7"
      }
    },
    {
      "cell_type": "markdown",
      "source": [
        "* data를 8:1:1로 train / validation / test로 분리하고 2 hidden layer MLP 모델을 training 시키고 train / validation / test에 대한 accuracy를 각각 구하세요 (10)"
      ],
      "metadata": {
        "id": "W6UEmLPuz2SN"
      }
    },
    {
      "cell_type": "code",
      "source": [
        "import os\n",
        "import torch\n",
        "from torch import nn\n",
        "from torch.utils.data import Dataset\n",
        "from torch.utils.data import DataLoader, random_split\n",
        "from torchvision import datasets, transforms\n",
        "from torchvision.transforms import ToTensor\n",
        "import matplotlib.pyplot as plt"
      ],
      "metadata": {
        "id": "UmkkYKdZzqSa"
      },
      "execution_count": null,
      "outputs": []
    },
    {
      "cell_type": "code",
      "source": [
        "# FashionMMIST 데이터셋 로딩\n",
        "dataset = datasets.FashionMNIST(root='./data', download=True, train=True, transform=transforms.ToTensor())\n",
        "test_dataset=datasets.FashionMNIST(root='./data', download=True, train=False, transform=transforms.ToTensor())\n",
        "\n",
        "# 데이터 분할 (data를 8:1:1로 train / validation / test로 분리)\n",
        "total_train = len(dataset)\n",
        "train_size = int(total_train * 0.8)\n",
        "valid_size = int(total_train * 0.1)\n",
        "test_size = total_train - train_size - valid_size # 정확한 test_size 계산 (모든 데이터의 총합이 1이 되도록 함)\n",
        "\n",
        "train_dataset, remaining_dataset = random_split(dataset, [train_size, total_train - train_size])\n",
        "valid_dataset, test_dataset = random_split(remaining_dataset, [valid_size, test_size])\n",
        "\n",
        "# 훈련 과정에서는 데이터의 다양성을 확보하고 과적합을 방지하기 위해 데이터를 셔플링하고, 검증 및 테스트 단계에서는 모델 성능의 일관된 평가를 위해 셔플링 X\n",
        "train_loader = DataLoader(train_dataset, shuffle=True) # minibatch 적용 X\n",
        "valid_loader = DataLoader(valid_dataset, shuffle=False) # minibatch 적용 X\n",
        "test_loader = DataLoader(test_dataset, shuffle=False) # minibatch 적용 X"
      ],
      "metadata": {
        "id": "mtiHGLBpIwWA",
        "colab": {
          "base_uri": "https://localhost:8080/"
        },
        "outputId": "5a64f12b-98d7-45e0-9e27-d5b9f73ea934"
      },
      "execution_count": null,
      "outputs": [
        {
          "output_type": "stream",
          "name": "stdout",
          "text": [
            "Downloading http://fashion-mnist.s3-website.eu-central-1.amazonaws.com/train-images-idx3-ubyte.gz\n",
            "Downloading http://fashion-mnist.s3-website.eu-central-1.amazonaws.com/train-images-idx3-ubyte.gz to ./data/FashionMNIST/raw/train-images-idx3-ubyte.gz\n"
          ]
        },
        {
          "output_type": "stream",
          "name": "stderr",
          "text": [
            "100%|██████████| 26421880/26421880 [00:02<00:00, 11918952.68it/s]\n"
          ]
        },
        {
          "output_type": "stream",
          "name": "stdout",
          "text": [
            "Extracting ./data/FashionMNIST/raw/train-images-idx3-ubyte.gz to ./data/FashionMNIST/raw\n",
            "\n",
            "Downloading http://fashion-mnist.s3-website.eu-central-1.amazonaws.com/train-labels-idx1-ubyte.gz\n",
            "Downloading http://fashion-mnist.s3-website.eu-central-1.amazonaws.com/train-labels-idx1-ubyte.gz to ./data/FashionMNIST/raw/train-labels-idx1-ubyte.gz\n"
          ]
        },
        {
          "output_type": "stream",
          "name": "stderr",
          "text": [
            "100%|██████████| 29515/29515 [00:00<00:00, 202187.71it/s]\n"
          ]
        },
        {
          "output_type": "stream",
          "name": "stdout",
          "text": [
            "Extracting ./data/FashionMNIST/raw/train-labels-idx1-ubyte.gz to ./data/FashionMNIST/raw\n",
            "\n",
            "Downloading http://fashion-mnist.s3-website.eu-central-1.amazonaws.com/t10k-images-idx3-ubyte.gz\n",
            "Downloading http://fashion-mnist.s3-website.eu-central-1.amazonaws.com/t10k-images-idx3-ubyte.gz to ./data/FashionMNIST/raw/t10k-images-idx3-ubyte.gz\n"
          ]
        },
        {
          "output_type": "stream",
          "name": "stderr",
          "text": [
            "100%|██████████| 4422102/4422102 [00:01<00:00, 3682997.91it/s]\n"
          ]
        },
        {
          "output_type": "stream",
          "name": "stdout",
          "text": [
            "Extracting ./data/FashionMNIST/raw/t10k-images-idx3-ubyte.gz to ./data/FashionMNIST/raw\n",
            "\n",
            "Downloading http://fashion-mnist.s3-website.eu-central-1.amazonaws.com/t10k-labels-idx1-ubyte.gz\n",
            "Downloading http://fashion-mnist.s3-website.eu-central-1.amazonaws.com/t10k-labels-idx1-ubyte.gz to ./data/FashionMNIST/raw/t10k-labels-idx1-ubyte.gz\n"
          ]
        },
        {
          "output_type": "stream",
          "name": "stderr",
          "text": [
            "100%|██████████| 5148/5148 [00:00<00:00, 18298539.82it/s]\n"
          ]
        },
        {
          "output_type": "stream",
          "name": "stdout",
          "text": [
            "Extracting ./data/FashionMNIST/raw/t10k-labels-idx1-ubyte.gz to ./data/FashionMNIST/raw\n",
            "\n"
          ]
        }
      ]
    },
    {
      "cell_type": "code",
      "source": [
        "import torch.nn as nn\n",
        "import torch.nn.functional as F\n",
        "import torch.optim as optim"
      ],
      "metadata": {
        "id": "qd6ok1SwrIHV"
      },
      "execution_count": null,
      "outputs": []
    },
    {
      "cell_type": "code",
      "source": [
        "device = torch.device(\"cuda\" if torch.cuda.is_available() else \"cpu\")\n",
        "print(device)"
      ],
      "metadata": {
        "colab": {
          "base_uri": "https://localhost:8080/"
        },
        "id": "McUstCtTs8Vc",
        "outputId": "a2531edf-c977-462f-d3f2-1b3fcf76895d"
      },
      "execution_count": null,
      "outputs": [
        {
          "output_type": "stream",
          "name": "stdout",
          "text": [
            "cuda\n"
          ]
        }
      ]
    },
    {
      "cell_type": "code",
      "source": [
        "# MLP 구현\n",
        "class MLP(torch.nn.Module):\n",
        "  def __init__(self):\n",
        "    super(MLP, self).__init__()\n",
        "    self.linear_relu_stack=nn.Sequential(\n",
        "        nn.Flatten(),\n",
        "        nn.Linear(28*28, 512),\n",
        "        nn.ReLU(),\n",
        "        nn.Linear(512, 512),\n",
        "        nn.ReLU(),\n",
        "        nn.Linear(512, 10),\n",
        "    )\n",
        "  def forward(self, x):\n",
        "    logits = self.linear_relu_stack(x)\n",
        "    return logits"
      ],
      "metadata": {
        "id": "I_5Pz6atrgo7"
      },
      "execution_count": null,
      "outputs": []
    },
    {
      "cell_type": "code",
      "source": [
        "device = 'cuda' if torch.cuda.is_available() else 'cpu'\n",
        "lr = 0.001\n",
        "model=MLP().to(device)\n",
        "criterion = torch.nn.CrossEntropyLoss().to(device)\n",
        "optimizer = torch.optim.SGD(model.parameters(), lr=lr) # 기본 SGD 사용"
      ],
      "metadata": {
        "id": "TCin0QOk01ii"
      },
      "execution_count": null,
      "outputs": []
    },
    {
      "cell_type": "code",
      "source": [
        "# 학습 함수\n",
        "def train(model, dataloader, optimizer, criterion):\n",
        "    model.train() # 모델을 훈련 모드로 설정\n",
        "    total_loss = 0\n",
        "    correct = 0\n",
        "    for images, labels in dataloader:\n",
        "        images, labels = images.to(device), labels.to(device) # 데이터를 device 로 이동\n",
        "        optimizer.zero_grad() # 옵티마이저의 gradient 초기화\n",
        "        outputs = model(images) # 모델을 통해 예측 수행\n",
        "        loss = criterion(outputs, labels) # 손실 계산\n",
        "        loss.backward() # 손실에 대한 gradient 계산\n",
        "        optimizer.step() # 모델의 파라미터 업데이트\n",
        "        total_loss += loss.item()\n",
        "        _, predicted = torch.max(outputs, 1) # 가장 높은 점수를 가진 클래스 선택\n",
        "        correct += (predicted == labels).sum().item() # 정확하게 예측된 샘플 수\n",
        "    accuracy = correct / len(dataloader.dataset) # 정확도 계산\n",
        "    return total_loss / len(dataloader), accuracy # 평균 손실과 정확도 반환\n",
        "\n",
        "# 평가 함수\n",
        "def evaluate(model, dataloader, criterion):\n",
        "    model.eval() # 모델을 평가 모드로 설정\n",
        "    total_loss = 0\n",
        "    correct = 0\n",
        "    with torch.no_grad(): # gradient 계산을 비활성화\n",
        "        for images, labels in dataloader:\n",
        "            images, labels = images.to(device), labels.to(device)\n",
        "            outputs = model(images)\n",
        "            loss = criterion(outputs, labels)\n",
        "            total_loss += loss.item()\n",
        "            _, predicted = torch.max(outputs, 1)\n",
        "            correct += (predicted == labels).sum().item()\n",
        "    accuracy = correct / len(dataloader.dataset)\n",
        "    return total_loss / len(dataloader), accuracy\n",
        "\n",
        "# 모델 학습 및 평가\n",
        "for epoch in range(20):\n",
        "    train_loss, train_accuracy = train(model, train_loader, optimizer, criterion)\n",
        "    valid_loss, valid_accuracy = evaluate(model, valid_loader, criterion)\n",
        "    print(\"=====\")\n",
        "    print(f'Epoch {epoch+1}')\n",
        "    print(f'Train Loss: {train_loss:.4f}, Train Accuracy: {train_accuracy:.4f}')\n",
        "    print(f'Valid Loss: {valid_loss:.4f}, Valid Accuracy: {valid_accuracy:.4f}')\n",
        "\n",
        "# 테스트 데이터에 대한 평가\n",
        "test_loss, test_accuracy = evaluate(model, test_loader, criterion)\n",
        "print(\"=====\")\n",
        "print(f'Test Loss: {test_loss:.4f}, Test Accuracy: {test_accuracy:.4f}')"
      ],
      "metadata": {
        "colab": {
          "base_uri": "https://localhost:8080/"
        },
        "id": "IGzgdLE8AIri",
        "outputId": "a4ec359a-c316-4682-d864-76cf31b76c6a"
      },
      "execution_count": null,
      "outputs": [
        {
          "output_type": "stream",
          "name": "stdout",
          "text": [
            "=====\n",
            "Epoch 1\n",
            "Train Loss: 0.7385, Train Accuracy: 0.7461\n",
            "Valid Loss: 0.5131, Valid Accuracy: 0.8180\n",
            "=====\n",
            "Epoch 2\n",
            "Train Loss: 0.4664, Train Accuracy: 0.8353\n",
            "Valid Loss: 0.4466, Valid Accuracy: 0.8352\n",
            "=====\n",
            "Epoch 3\n",
            "Train Loss: 0.4144, Train Accuracy: 0.8526\n",
            "Valid Loss: 0.4023, Valid Accuracy: 0.8570\n",
            "=====\n",
            "Epoch 4\n",
            "Train Loss: 0.3829, Train Accuracy: 0.8624\n",
            "Valid Loss: 0.3864, Valid Accuracy: 0.8615\n",
            "=====\n",
            "Epoch 5\n",
            "Train Loss: 0.3585, Train Accuracy: 0.8710\n",
            "Valid Loss: 0.3810, Valid Accuracy: 0.8615\n",
            "=====\n",
            "Epoch 6\n",
            "Train Loss: 0.3393, Train Accuracy: 0.8771\n",
            "Valid Loss: 0.3811, Valid Accuracy: 0.8543\n",
            "=====\n",
            "Epoch 7\n",
            "Train Loss: 0.3238, Train Accuracy: 0.8822\n",
            "Valid Loss: 0.3637, Valid Accuracy: 0.8683\n",
            "=====\n",
            "Epoch 8\n",
            "Train Loss: 0.3107, Train Accuracy: 0.8858\n",
            "Valid Loss: 0.3438, Valid Accuracy: 0.8753\n",
            "=====\n",
            "Epoch 9\n",
            "Train Loss: 0.2984, Train Accuracy: 0.8899\n",
            "Valid Loss: 0.3496, Valid Accuracy: 0.8713\n",
            "=====\n",
            "Epoch 10\n",
            "Train Loss: 0.2902, Train Accuracy: 0.8932\n",
            "Valid Loss: 0.3348, Valid Accuracy: 0.8743\n",
            "=====\n",
            "Epoch 11\n",
            "Train Loss: 0.2789, Train Accuracy: 0.8978\n",
            "Valid Loss: 0.3199, Valid Accuracy: 0.8837\n",
            "=====\n",
            "Epoch 12\n",
            "Train Loss: 0.2700, Train Accuracy: 0.9002\n",
            "Valid Loss: 0.3319, Valid Accuracy: 0.8810\n",
            "=====\n",
            "Epoch 13\n",
            "Train Loss: 0.2615, Train Accuracy: 0.9033\n",
            "Valid Loss: 0.3118, Valid Accuracy: 0.8905\n",
            "=====\n",
            "Epoch 14\n",
            "Train Loss: 0.2533, Train Accuracy: 0.9070\n",
            "Valid Loss: 0.3080, Valid Accuracy: 0.8857\n",
            "=====\n",
            "Epoch 15\n",
            "Train Loss: 0.2438, Train Accuracy: 0.9095\n",
            "Valid Loss: 0.3200, Valid Accuracy: 0.8852\n",
            "=====\n",
            "Epoch 16\n",
            "Train Loss: 0.2391, Train Accuracy: 0.9093\n",
            "Valid Loss: 0.3199, Valid Accuracy: 0.8827\n",
            "=====\n",
            "Epoch 17\n",
            "Train Loss: 0.2314, Train Accuracy: 0.9152\n",
            "Valid Loss: 0.3160, Valid Accuracy: 0.8863\n",
            "=====\n",
            "Epoch 18\n",
            "Train Loss: 0.2247, Train Accuracy: 0.9173\n",
            "Valid Loss: 0.3158, Valid Accuracy: 0.8890\n",
            "=====\n",
            "Epoch 19\n",
            "Train Loss: 0.2188, Train Accuracy: 0.9197\n",
            "Valid Loss: 0.3152, Valid Accuracy: 0.8927\n",
            "=====\n",
            "Epoch 20\n",
            "Train Loss: 0.2111, Train Accuracy: 0.9214\n",
            "Valid Loss: 0.3099, Valid Accuracy: 0.8895\n",
            "=====\n",
            "Test Loss: 0.2893, Test Accuracy: 0.8963\n"
          ]
        }
      ]
    },
    {
      "cell_type": "markdown",
      "source": [
        "\n",
        "\n",
        "> 모델이 점차적으로 학습하면서 성능이 개선되고 있음을 보임. 모델의 훈련 손실은 점점 감소하고, 훈련 정확도와 검증 정확도는 증가하는 추세를 보임.\n",
        "\n",
        ">최종 테스트 결과: 최종 에포크에서의 테스트 손실은 0.2893, 테스트 정확도는 89.63%\n",
        "\n",
        "> 이는 모델이 새로운, 보지 못한 데이터에 대해서도 상당히 좋은 성능을 보여주고 있음을 의미함.\n",
        "\n"
      ],
      "metadata": {
        "id": "O0JrqCwIE85A"
      }
    },
    {
      "cell_type": "code",
      "source": [
        "import matplotlib.pyplot as plt\n",
        "\n",
        "# Epochs\n",
        "epochs = range(1, 21)\n",
        "\n",
        "# Training and validation loss\n",
        "train_losses = [0.7385, 0.4664, 0.4144, 0.3829, 0.3585, 0.3393, 0.3238, 0.3107, 0.2984, 0.2902,\n",
        "                0.2789, 0.2700, 0.2615, 0.2533, 0.2438, 0.2391, 0.2314, 0.2247, 0.2188, 0.2111]\n",
        "valid_losses = [0.5131, 0.4466, 0.4023, 0.3864, 0.3810, 0.3811, 0.3637, 0.3438, 0.3496, 0.3348,\n",
        "                0.3199, 0.3319, 0.3118, 0.3080, 0.3200, 0.3199, 0.3160, 0.3158, 0.3152, 0.3099]\n",
        "\n",
        "# Training and validation accuracy\n",
        "train_accuracies = [0.7461, 0.8353, 0.8526, 0.8624, 0.8710, 0.8771, 0.8822, 0.8858, 0.8899, 0.8932,\n",
        "                    0.8978, 0.9002, 0.9033, 0.9070, 0.9095, 0.9093, 0.9152, 0.9173, 0.9197, 0.9214]\n",
        "valid_accuracies = [0.8180, 0.8352, 0.8570, 0.8615, 0.8615, 0.8543, 0.8683, 0.8753, 0.8713, 0.8743,\n",
        "                    0.8837, 0.8810, 0.8905, 0.8857, 0.8852, 0.8827, 0.8863, 0.8890, 0.8927, 0.8895]\n",
        "\n",
        "# Plotting loss\n",
        "plt.figure(figsize=(14, 7))\n",
        "plt.subplot(1, 2, 1)\n",
        "plt.plot(epochs, train_losses, label='Train Loss')\n",
        "plt.plot(epochs, valid_losses, label='Valid Loss')\n",
        "plt.title('Train vs Valid Loss')\n",
        "plt.xlabel('Epochs')\n",
        "plt.ylabel('Loss')\n",
        "plt.legend()\n",
        "\n",
        "# Plotting accuracy\n",
        "plt.subplot(1, 2, 2)\n",
        "plt.plot(epochs, train_accuracies, label='Train Accuracy')\n",
        "plt.plot(epochs, valid_accuracies, label='Valid Accuracy')\n",
        "plt.title('Train vs Valid Accuracy')\n",
        "plt.xlabel('Epochs')\n",
        "plt.ylabel('Accuracy (%)')\n",
        "plt.legend()\n",
        "\n",
        "plt.show()"
      ],
      "metadata": {
        "colab": {
          "base_uri": "https://localhost:8080/",
          "height": 641
        },
        "id": "1cf23sk9UkYc",
        "outputId": "c0f0940e-44fc-4cae-94d7-c9d4e0276bdc"
      },
      "execution_count": null,
      "outputs": [
        {
          "output_type": "display_data",
          "data": {
            "text/plain": [
              "<Figure size 1400x700 with 2 Axes>"
            ],
            "image/png": "[encoded data removed]"
          },
          "metadata": {}
        }
      ]
    },
    {
      "cell_type": "markdown",
      "source": [
        "1) 훈련 손실 감소 : 훈련 데이터에서 점점 더 좋은 성능을 내고 있음을 나타냄.\n",
        "\n",
        "2) 훈련 정확도 향상 : 모델이 훈련 데이터를 잘 학습하고 있음을 보여줌.\n",
        "\n",
        "3) 검증 손실도 감소 : 검증 데이터에 대한 모델의 예측 성능이 향상됨.\n",
        "\n",
        "4) 검증 정확도 향상: 모델이 일반화를 잘 하고 있으며, 새로운 데이터에 대해서도 비교적 정확하게 예측할 수 있음을 시사함.\n",
        "\n",
        "5) 테스트 데이터셋에 대한 결과: 손실 0.2893 / 정확도 89.63% : 테스트 데이터셋에서도 모델이 비교적 좋은 성능을 보이고 있음.\n"
      ],
      "metadata": {
        "id": "TzRp_XprFjei"
      }
    },
    {
      "cell_type": "markdown",
      "source": [
        "**미니배치를 사용하지 않고 전체 배치 방식을 사용한 결과 학습속도가 매우 느려진다. (약 27분 소요)**\n",
        "\n",
        "**전체 배치(full-batch)를 사용할 경우 보다 안정적인 그래디언트 추정이 가능하지만, 매 업데이트마다 전체 데이터셋을 다시 계산해야 하기 때문에 한번의 업데이트에 많은 시간이 소요된다.**\n",
        "\n",
        "**미니배치 방식은 불안정할 수 있으나 적절한 크기와 파라미터 조정을 통해 전체 배치 방식보다 빠른 수렴을 달성할 수 있다.**\n",
        "\n",
        "**아래에 이어 minibatch를 사용한 SGD로 코드를 수정하고 train / validation / test에 대한 accuracy를 구하고자 한다.**"
      ],
      "metadata": {
        "id": "AYZeV5RpSaFa"
      }
    },
    {
      "cell_type": "markdown",
      "source": [
        "\n",
        "\n",
        "---\n",
        "\n"
      ],
      "metadata": {
        "id": "O2oH3J0Gafus"
      }
    },
    {
      "cell_type": "markdown",
      "source": [
        "* minibatch를 사용한 SGD로 코드를 수정하고 train / validation / test에 대한 accuracy를 구하세요 (10)"
      ],
      "metadata": {
        "id": "TFGWsuEzEaw9"
      }
    },
    {
      "cell_type": "code",
      "source": [
        "# FashionMMIST 데이터셋 로딩\n",
        "dataset = datasets.FashionMNIST(root='./data', download=True, train=True, transform=transforms.ToTensor())\n",
        "test_dataset=datasets.FashionMNIST(root='./data', download=True, train=False, transform=transforms.ToTensor())\n",
        "\n",
        "# 데이터 분할 (data를 8:1:1로 train / validation / test로 분리)\n",
        "total_train = len(dataset)\n",
        "train_size = int(total_train * 0.8)\n",
        "valid_size = int(total_train * 0.1)\n",
        "test_size = total_train - train_size - valid_size # 정확한 test_size 계산 (모든 데이터의 총합이 1이 되도록 함)\n",
        "\n",
        "train_dataset, remaining_dataset = random_split(dataset, [train_size, total_train - train_size])\n",
        "valid_dataset, test_dataset = random_split(remaining_dataset, [valid_size, test_size])\n",
        "\n",
        "# 훈련 과정에서는 데이터의 다양성을 확보하고 과적합을 방지하기 위해 데이터를 셔플링하고, 검증 및 테스트 단계에서는 모델 성능의 일관된 평가를 위해 셔플링 X\n",
        "train_loader = DataLoader(train_dataset, batch_size=64, shuffle=True) # minibatch 적용\n",
        "valid_loader = DataLoader(valid_dataset, batch_size=64, shuffle=False) # minibatch 적용\n",
        "test_loader = DataLoader(test_dataset, batch_size=64, shuffle=False) # minibatch 적용"
      ],
      "metadata": {
        "id": "Z9INaeLUE7jx"
      },
      "execution_count": null,
      "outputs": []
    },
    {
      "cell_type": "code",
      "source": [
        "device = torch.device(\"cuda\" if torch.cuda.is_available() else \"cpu\")\n",
        "print(device)"
      ],
      "metadata": {
        "id": "GH44j5szuhz2",
        "colab": {
          "base_uri": "https://localhost:8080/"
        },
        "outputId": "002569a4-64e0-4368-de05-515bb8241257"
      },
      "execution_count": null,
      "outputs": [
        {
          "output_type": "stream",
          "name": "stdout",
          "text": [
            "cuda\n"
          ]
        }
      ]
    },
    {
      "cell_type": "code",
      "source": [
        "# MLP 구현\n",
        "class MLP(torch.nn.Module):\n",
        "  def __init__(self):\n",
        "    super(MLP, self).__init__()\n",
        "    self.linear_relu_stack=nn.Sequential(\n",
        "        nn.Flatten(),\n",
        "        nn.Linear(28*28, 512),\n",
        "        nn.ReLU(),\n",
        "        nn.Linear(512, 512),\n",
        "        nn.ReLU(),\n",
        "        nn.Linear(512, 10),\n",
        "    )\n",
        "  def forward(self, x):\n",
        "    logits = self.linear_relu_stack(x)\n",
        "    return logits"
      ],
      "metadata": {
        "id": "_NwVKHjVJUhS"
      },
      "execution_count": null,
      "outputs": []
    },
    {
      "cell_type": "code",
      "source": [
        "device = 'cuda' if torch.cuda.is_available() else 'cpu'\n",
        "lr = 0.001\n",
        "model=MLP().to(device)\n",
        "criterion = torch.nn.CrossEntropyLoss().to(device)\n",
        "optimizer = torch.optim.SGD(model.parameters(), lr=lr)"
      ],
      "metadata": {
        "id": "G6TJue17JUbh"
      },
      "execution_count": null,
      "outputs": []
    },
    {
      "cell_type": "code",
      "source": [
        "# 학습 함수\n",
        "def train(model, dataloader, optimizer, criterion):\n",
        "    model.train() # 모델을 훈련 모드로 설정\n",
        "    total_loss = 0\n",
        "    correct = 0\n",
        "    for images, labels in dataloader:\n",
        "        images, labels = images.to(device), labels.to(device) # 데이터를 device 로 이동\n",
        "        optimizer.zero_grad() # 옵티마이저의 gradient 초기화\n",
        "        outputs = model(images) # 모델을 통해 예측 수행\n",
        "        loss = criterion(outputs, labels) # 손실 계산\n",
        "        loss.backward() # 손실에 대한 gradient 계산\n",
        "        optimizer.step() # 모델의 파라미터 업데이트\n",
        "        total_loss += loss.item()\n",
        "        _, predicted = torch.max(outputs, 1) # 가장 높은 점수를 가진 클래스 선택\n",
        "        correct += (predicted == labels).sum().item() # 정확하게 예측된 샘플 수\n",
        "    accuracy = correct / len(dataloader.dataset) # 정확도 계산\n",
        "    return total_loss / len(dataloader), accuracy # 평균 손실과 정확도 반환\n",
        "\n",
        "# 평가 함수\n",
        "def evaluate(model, dataloader, criterion):\n",
        "    model.eval() # 모델을 평가 모드로 설정\n",
        "    total_loss = 0\n",
        "    correct = 0\n",
        "    with torch.no_grad(): # gradient 계산을 비활성화\n",
        "        for images, labels in dataloader:\n",
        "            images, labels = images.to(device), labels.to(device)\n",
        "            outputs = model(images)\n",
        "            loss = criterion(outputs, labels)\n",
        "            total_loss += loss.item()\n",
        "            _, predicted = torch.max(outputs, 1)\n",
        "            correct += (predicted == labels).sum().item()\n",
        "    accuracy = correct / len(dataloader.dataset)\n",
        "    return total_loss / len(dataloader), accuracy\n",
        "\n",
        "# 모델 학습 및 평가\n",
        "for epoch in range(20):\n",
        "    train_loss, train_accuracy = train(model, train_loader, optimizer, criterion)\n",
        "    valid_loss, valid_accuracy = evaluate(model, valid_loader, criterion)\n",
        "    print(\"=====\")\n",
        "    print(f'Epoch {epoch+1}')\n",
        "    print(f'Train Loss: {train_loss:.4f}, Train Accuracy: {train_accuracy:.4f}')\n",
        "    print(f'Valid Loss: {valid_loss:.4f}, Valid Accuracy: {valid_accuracy:.4f}')\n",
        "\n",
        "# 테스트 데이터에 대한 평가\n",
        "test_loss, test_accuracy = evaluate(model, test_loader, criterion)\n",
        "print(\"=====\")\n",
        "print(f'Test Loss: {test_loss:.4f}, Test Accuracy: {test_accuracy:.4f}')"
      ],
      "metadata": {
        "id": "KyvJdPHoJUR8",
        "colab": {
          "base_uri": "https://localhost:8080/"
        },
        "outputId": "ba827a43-1286-4e5c-88c1-5565a3ad80e3"
      },
      "execution_count": null,
      "outputs": [
        {
          "output_type": "stream",
          "name": "stdout",
          "text": [
            "=====\n",
            "Epoch 1\n",
            "Train Loss: 2.2534, Train Accuracy: 0.2225\n",
            "Valid Loss: 2.1937, Valid Accuracy: 0.3292\n",
            "=====\n",
            "Epoch 2\n",
            "Train Loss: 2.1172, Train Accuracy: 0.4251\n",
            "Valid Loss: 2.0220, Valid Accuracy: 0.5057\n",
            "=====\n",
            "Epoch 3\n",
            "Train Loss: 1.8979, Train Accuracy: 0.5389\n",
            "Valid Loss: 1.7529, Valid Accuracy: 0.5665\n",
            "=====\n",
            "Epoch 4\n",
            "Train Loss: 1.6116, Train Accuracy: 0.6018\n",
            "Valid Loss: 1.4720, Valid Accuracy: 0.6107\n",
            "=====\n",
            "Epoch 5\n",
            "Train Loss: 1.3620, Train Accuracy: 0.6319\n",
            "Valid Loss: 1.2638, Valid Accuracy: 0.6352\n",
            "=====\n",
            "Epoch 6\n",
            "Train Loss: 1.1852, Train Accuracy: 0.6475\n",
            "Valid Loss: 1.1210, Valid Accuracy: 0.6403\n",
            "=====\n",
            "Epoch 7\n",
            "Train Loss: 1.0639, Train Accuracy: 0.6561\n",
            "Valid Loss: 1.0237, Valid Accuracy: 0.6568\n",
            "=====\n",
            "Epoch 8\n",
            "Train Loss: 0.9783, Train Accuracy: 0.6659\n",
            "Valid Loss: 0.9531, Valid Accuracy: 0.6663\n",
            "=====\n",
            "Epoch 9\n",
            "Train Loss: 0.9159, Train Accuracy: 0.6758\n",
            "Valid Loss: 0.9012, Valid Accuracy: 0.6758\n",
            "=====\n",
            "Epoch 10\n",
            "Train Loss: 0.8686, Train Accuracy: 0.6849\n",
            "Valid Loss: 0.8606, Valid Accuracy: 0.6800\n",
            "=====\n",
            "Epoch 11\n",
            "Train Loss: 0.8317, Train Accuracy: 0.6943\n",
            "Valid Loss: 0.8289, Valid Accuracy: 0.6915\n",
            "=====\n",
            "Epoch 12\n",
            "Train Loss: 0.8017, Train Accuracy: 0.7033\n",
            "Valid Loss: 0.8017, Valid Accuracy: 0.7100\n",
            "=====\n",
            "Epoch 13\n",
            "Train Loss: 0.7765, Train Accuracy: 0.7135\n",
            "Valid Loss: 0.7787, Valid Accuracy: 0.7167\n",
            "=====\n",
            "Epoch 14\n",
            "Train Loss: 0.7549, Train Accuracy: 0.7234\n",
            "Valid Loss: 0.7585, Valid Accuracy: 0.7262\n",
            "=====\n",
            "Epoch 15\n",
            "Train Loss: 0.7357, Train Accuracy: 0.7334\n",
            "Valid Loss: 0.7412, Valid Accuracy: 0.7265\n",
            "=====\n",
            "Epoch 16\n",
            "Train Loss: 0.7183, Train Accuracy: 0.7411\n",
            "Valid Loss: 0.7251, Valid Accuracy: 0.7403\n",
            "=====\n",
            "Epoch 17\n",
            "Train Loss: 0.7023, Train Accuracy: 0.7487\n",
            "Valid Loss: 0.7093, Valid Accuracy: 0.7397\n",
            "=====\n",
            "Epoch 18\n",
            "Train Loss: 0.6876, Train Accuracy: 0.7558\n",
            "Valid Loss: 0.6946, Valid Accuracy: 0.7550\n",
            "=====\n",
            "Epoch 19\n",
            "Train Loss: 0.6739, Train Accuracy: 0.7629\n",
            "Valid Loss: 0.6809, Valid Accuracy: 0.7607\n",
            "=====\n",
            "Epoch 20\n",
            "Train Loss: 0.6608, Train Accuracy: 0.7695\n",
            "Valid Loss: 0.6695, Valid Accuracy: 0.7647\n",
            "=====\n",
            "Test Loss: 0.6525, Test Accuracy: 0.7778\n"
          ]
        }
      ]
    },
    {
      "cell_type": "code",
      "source": [
        "import matplotlib.pyplot as plt\n",
        "\n",
        "# 에포크 설정\n",
        "epochs = range(1, 21)\n",
        "\n",
        "# 훈련 및 검증 손실\n",
        "train_losses = [2.2534, 2.1172, 1.8979, 1.6116, 1.3620, 1.1852, 1.0639, 0.9783, 0.9159, 0.8686,\n",
        "                0.8317, 0.8017, 0.7765, 0.7549, 0.7357, 0.7183, 0.7023, 0.6876, 0.6739, 0.6608]\n",
        "valid_losses = [2.1937, 2.0220, 1.7529, 1.4720, 1.2638, 1.1210, 1.0237, 0.9531, 0.9012, 0.8606,\n",
        "                0.8289, 0.8017, 0.7787, 0.7585, 0.7412, 0.7251, 0.7093, 0.6946, 0.6809, 0.6695]\n",
        "\n",
        "# 훈련 및 검증 정확도\n",
        "train_accuracies = [0.2225, 0.4251, 0.5389, 0.6018, 0.6319, 0.6475, 0.6561, 0.6659, 0.6758, 0.6849,\n",
        "                    0.6943, 0.7033, 0.7135, 0.7234, 0.7334, 0.7411, 0.7487, 0.7558, 0.7629, 0.7695]\n",
        "valid_accuracies = [0.3292, 0.5057, 0.5665, 0.6107, 0.6352, 0.6403, 0.6568, 0.6663, 0.6758, 0.6800,\n",
        "                    0.6915, 0.7100, 0.7167, 0.7262, 0.7265, 0.7403, 0.7397, 0.7550, 0.7607, 0.7647]\n",
        "\n",
        "# 손실 그래프\n",
        "plt.figure(figsize=(10, 5))\n",
        "plt.subplot(1, 2, 1)\n",
        "plt.plot(epochs, train_losses, 'r', label='Training Loss')\n",
        "plt.plot(epochs, valid_losses, 'b', label='Validation Loss')\n",
        "plt.title('Training and Validation Loss')\n",
        "plt.xlabel('Epoch')\n",
        "plt.ylabel('Loss')\n",
        "plt.legend()\n",
        "\n",
        "# 정확도 그래프\n",
        "plt.subplot(1, 2, 2)\n",
        "plt.plot(epochs, train_accuracies, 'r', label='Training Accuracy')\n",
        "plt.plot(epochs, valid_accuracies, 'b', label='Validation Accuracy')\n",
        "plt.title('Training and Validation Accuracy')\n",
        "plt.xlabel('Epoch')\n",
        "plt.ylabel('Accuracy')\n",
        "plt.legend()\n",
        "\n",
        "plt.tight_layout()\n",
        "plt.show()"
      ],
      "metadata": {
        "colab": {
          "base_uri": "https://localhost:8080/",
          "height": 507
        },
        "id": "LqdR6lNYZ_l2",
        "outputId": "eab7c70b-9d01-4656-b68e-7cef22579bb5"
      },
      "execution_count": null,
      "outputs": [
        {
          "output_type": "display_data",
          "data": {
            "text/plain": [
              "<Figure size 1000x500 with 2 Axes>"
            ],
            "image/png": "[encoded data removed]"
          },
          "metadata": {}
        }
      ]
    },
    {
      "cell_type": "markdown",
      "source": [
        ">모델이 점차적으로 학습하면서 성능이 개선되고 있음을 보임. 모델의 훈련 손실은 점점 감소하고, 훈련 정확도와 검증 정확도는 증가하는 추세를 보임.\n",
        "\n",
        ">최종 테스트 결과: 최종 에포크에서의 테스트 손실은 0.6525, 테스트 정확도는 77.78%\n",
        "\n",
        ">이는 모델이 새로운, 보지 못한 데이터에 대해서도 좋은 성능을 보여주고 있음을 의미함."
      ],
      "metadata": {
        "id": "cQAEPk5sW8v8"
      }
    },
    {
      "cell_type": "markdown",
      "source": [
        "Minibatch 사용 유무는 머신 러닝에서 특히 딥러닝 모델을 학습시킬 때 매우 중요한 선택 요소이며 모델 학습 과정에 큰 영향을 미친다.\n",
        "\n",
        "> Minibatch 학습이란?\n",
        "Minibatch 학습은 전체 훈련 데이터셋을 작은 배치(batch)들로 나누고, 각 배치에 대해 모델의 파라미터를 업데이트하는 방법으로 일반적으로 미니배치 경사 하강법(Minibatch Gradient Descent)라고 불리며, 각 스텝에서 전체 데이터셋의 일부만 사용하여 파라미터를 업데이트한다.\n",
        "\n",
        "**Minibatch를 사용할 경우 전체 데이터셋을 메모리에 한 번에 로드할 필요가 없기 때문에, 큰 데이터셋을 다룰 때 메모리 사용을 최적화할 수 있다. 더불어, 매우 큰 데이터셋을 사용할 때 모델이 빠르게 학습할 수 있도록 해준다.**\n"
      ],
      "metadata": {
        "id": "PyYjAOPTXeJ0"
      }
    },
    {
      "cell_type": "markdown",
      "source": [
        "### 미니배치 사용 x, 전체 배치 사용\n",
        "- 미니배치를 사용하지 않고 전체 배치 방식을 사용한 결과 학습속도가 매우 느림. (약 27분 소요)\n",
        "\n",
        "- 전체 배치(full-batch)를 사용할 경우 보다 안정적인 그래디언트 추정이 가능\n",
        "\n",
        "  => 최종 에포크에서의 테스트 손실은 0.2893, 테스트 정확도는 89.63%\n",
        "\n",
        "- 매 업데이트마다 전체 데이터셋을 다시 계산해야 하기 때문에 한번의 업데이트에 많은 시간이 소요된다.\n",
        "\n",
        "### 미니배치 사용 O\n",
        "\n",
        "- 미니배치 방식은 불안정할 수 있으나 적절한 크기와 파라미터 조정을 통해 전체 배치 방식보다 빠른 수렴을 달성할 수 있다. (약 2분 소요)\n",
        "\n",
        "  => 최종 에포크에서의 테스트 손실은 0.6525, 테스트 정확도는 77.78%\n",
        "\n",
        "\n",
        "**결론적으로, 전체 배치 학습은 특정 상황에서는 이점을 제공할 수 있지만, 대부분의 경우 미니배치 학습이 더 빠르고 효율적이다. 따라서 대규모 데이터셋과 복잡한 모델에는 미니배치 방식이 널리 사용되고 추천된다.**"
      ],
      "metadata": {
        "id": "J2COvGfgYU5u"
      }
    },
    {
      "cell_type": "markdown",
      "source": [
        "더불어, 모델 성능을 더 향상시키기 위해 하이퍼파라미터 튜닝 혹은 다른 학습 기법 등을 시도해 볼 수 있다. 아래에 이어서 모델의 성능을 향상시키는 방법들을 시도하고자 한다."
      ],
      "metadata": {
        "id": "UcUrihh0ThHG"
      }
    },
    {
      "cell_type": "markdown",
      "source": [
        "\n",
        "\n",
        "---\n",
        "\n"
      ],
      "metadata": {
        "id": "C6wtNn5pabi0"
      }
    },
    {
      "cell_type": "markdown",
      "source": [
        "* data normalization을 적용 했을 때 어떤 변화가 있는지 epoch / loss plot을 그려서 비교하세요 (10)"
      ],
      "metadata": {
        "id": "hGxIVMjtLyYw"
      }
    },
    {
      "cell_type": "markdown",
      "source": [
        "데이터 정규화의 영향을 비교하기 위해 정규화를 적용한 경우와 적용하지 않은 경우에 대해 모델을 훈련시킨 후, 각각의 손실(loss)을 epoch에 따라 기록하고 비교하는 그래프를 그린다."
      ],
      "metadata": {
        "id": "CulIETVWa2sD"
      }
    },
    {
      "cell_type": "code",
      "source": [
        "import torch\n",
        "import torch.nn as nn\n",
        "import torch.optim as optim\n",
        "from torch.utils.data import DataLoader, random_split\n",
        "from torchvision import datasets, transforms\n",
        "import matplotlib.pyplot as plt"
      ],
      "metadata": {
        "id": "0TMcxlaLJg1a"
      },
      "execution_count": null,
      "outputs": []
    },
    {
      "cell_type": "markdown",
      "source": [
        "1) 데이터 정규화를 적용하지 않은 데이터 로딩"
      ],
      "metadata": {
        "id": "LwtZGFYRb7Gv"
      }
    },
    {
      "cell_type": "code",
      "source": [
        "# 데이터 정규화를 적용하지 않은 데이터 로딩\n",
        "dataset = datasets.FashionMNIST(root='./data', download=True, train=True, transform=transforms.ToTensor()) # No normalization\n",
        "test_dataset=datasets.FashionMNIST(root='./data', download=True, train=False, transform=transforms.ToTensor()) # No normalization\n",
        "\n",
        "# 데이터 분할 (data를 8:1:1로 train / validation / test로 분리)\n",
        "total_train = len(dataset)\n",
        "train_size = int(total_train * 0.8)\n",
        "valid_size = int(total_train * 0.1)\n",
        "test_size = total_train - train_size - valid_size # 정확한 test_size 계산 (모든 데이터의 총합이 1이 되도록 함)\n",
        "\n",
        "train_dataset, remaining_dataset = random_split(dataset, [train_size, total_train - train_size])\n",
        "valid_dataset, test_dataset = random_split(remaining_dataset, [valid_size, test_size])\n",
        "\n",
        "train_loader = DataLoader(train_dataset, batch_size=64, shuffle=True)\n",
        "valid_loader = DataLoader(valid_dataset, batch_size=64, shuffle=False)\n",
        "test_loader = DataLoader(test_dataset, batch_size=64, shuffle=False)\n"
      ],
      "metadata": {
        "id": "w8M6v0VnJgsx"
      },
      "execution_count": null,
      "outputs": []
    },
    {
      "cell_type": "markdown",
      "source": [
        "2) 정규화 적용 데이터 로딩"
      ],
      "metadata": {
        "id": "4Tsl46nRb_4A"
      }
    },
    {
      "cell_type": "code",
      "source": [
        "transform_normalized = transforms.Compose([\n",
        "    transforms.ToTensor(),\n",
        "    transforms.Normalize((0.5,), (0.5,))  # Normalize data\n",
        "])\n",
        "normalized_dataset = datasets.FashionMNIST(root='./data', train=True, download=True, transform=transform_normalized)\n",
        "normalized_test_dataset=datasets.FashionMNIST(root='./data', download=True, train=False, transform=transform_normalized)\n",
        "\n",
        "normalized_train_dataset, normalized_valid_dataset, normalized_test_dataset = random_split(normalized_dataset, [train_size, valid_size, test_size])\n",
        "\n",
        "normalized_train_loader = DataLoader(normalized_train_dataset, batch_size=64, shuffle=True)\n",
        "normalized_valid_loader = DataLoader(normalized_valid_dataset, batch_size=64, shuffle=False)\n",
        "normalized_test_loader = DataLoader(normalized_test_dataset, batch_size=64, shuffle=False)"
      ],
      "metadata": {
        "id": "XR3XB-qQJgpS"
      },
      "execution_count": null,
      "outputs": []
    },
    {
      "cell_type": "markdown",
      "source": [
        "모델 정의 및 훈련 함수"
      ],
      "metadata": {
        "id": "SJT7SPEZc089"
      }
    },
    {
      "cell_type": "code",
      "source": [
        "# MLP 구현\n",
        "class MLP(torch.nn.Module):\n",
        "  def __init__(self):\n",
        "    super(MLP, self).__init__()\n",
        "    self.linear_relu_stack=nn.Sequential(\n",
        "        nn.Flatten(),\n",
        "        nn.Linear(28*28, 512),\n",
        "        nn.ReLU(),\n",
        "        nn.Linear(512, 512),\n",
        "        nn.ReLU(),\n",
        "        nn.Linear(512, 10),\n",
        "    )\n",
        "  def forward(self, x):\n",
        "    logits = self.linear_relu_stack(x)\n",
        "    return logits"
      ],
      "metadata": {
        "id": "pp0h_mXkcxCt"
      },
      "execution_count": null,
      "outputs": []
    },
    {
      "cell_type": "code",
      "source": [
        "# 훈련 함수\n",
        "def train_model(model, train_loader, epochs=20):\n",
        "    criterion = nn.CrossEntropyLoss()\n",
        "    optimizer = optim.SGD(model.parameters(), lr=0.001)\n",
        "    losses = []\n",
        "\n",
        "    for epoch in range(epochs):\n",
        "        model.train()\n",
        "        total_loss = 0\n",
        "        for data, targets in train_loader:\n",
        "            data, targets = data.to(torch.device(\"cuda\" if torch.cuda.is_available() else \"cpu\")), targets.to(torch.device(\"cuda\" if torch.cuda.is_available() else \"cpu\"))\n",
        "            optimizer.zero_grad()\n",
        "            outputs = model(data)\n",
        "            loss = criterion(outputs, targets)\n",
        "            loss.backward()\n",
        "            optimizer.step()\n",
        "            total_loss += loss.item()\n",
        "        losses.append(total_loss / len(train_loader))\n",
        "    return losses"
      ],
      "metadata": {
        "id": "7b65haVzd-9V"
      },
      "execution_count": null,
      "outputs": []
    },
    {
      "cell_type": "code",
      "source": [
        "device = torch.device(\"cuda\" if torch.cuda.is_available() else \"cpu\")\n",
        "print(device)"
      ],
      "metadata": {
        "colab": {
          "base_uri": "https://localhost:8080/"
        },
        "id": "O-HPK-bscxON",
        "outputId": "6a7a241d-770f-40b1-ed53-36da567b6f9a"
      },
      "execution_count": null,
      "outputs": [
        {
          "output_type": "stream",
          "name": "stdout",
          "text": [
            "cuda\n"
          ]
        }
      ]
    },
    {
      "cell_type": "code",
      "source": [
        "# 모델 훈련 및 손실 추적\n",
        "model = MLP().to(device)\n",
        "losses = train_model(model, train_loader)\n",
        "\n",
        "normalized_model = MLP().to(device)\n",
        "normalized_losses = train_model(normalized_model, normalized_train_loader)"
      ],
      "metadata": {
        "id": "Vogi2IrweRvZ"
      },
      "execution_count": null,
      "outputs": []
    },
    {
      "cell_type": "code",
      "source": [
        "# 손실 그래프 그리기\n",
        "plt.figure(figsize=(10, 5), dpi=120)\n",
        "plt.plot(losses, label='Without Normalization', marker='x')\n",
        "plt.plot(normalized_losses, label='With Normalization', marker='o')\n",
        "plt.title('Training Loss Comparison', fontsize=15)\n",
        "plt.xlabel('Epochs', fontsize=12)\n",
        "plt.ylabel('Loss', fontsize=12)\n",
        "plt.legend()\n",
        "plt.show()"
      ],
      "metadata": {
        "colab": {
          "base_uri": "https://localhost:8080/",
          "height": 578
        },
        "id": "CITxP0llenHv",
        "outputId": "d052c797-cb4a-42db-e75c-f900a756b842"
      },
      "execution_count": null,
      "outputs": [
        {
          "output_type": "display_data",
          "data": {
            "text/plain": [
              "<Figure size 1200x600 with 1 Axes>"
            ],
            "image/png": "[encoded data removed]"
          },
          "metadata": {}
        }
      ]
    },
    {
      "cell_type": "markdown",
      "source": [
        "### 정규화 사용 O vs 정규화 사용 X\n",
        "- 정규화 사용 시 손실 감소 속도가 빠름. 정규화를 적용한 모델이 초기 에포크에서 손실이 더 빠르게 감소함.\n",
        "\n",
        "  => 정규화가 모델이 데이터를 더 효과적으로 학습하도록 도와주며, 최적의 가중치에 더욱 빨리 수렴할 수 있게 함을 시사함.\n",
        "\n",
        "- 정규화 사용 시 손실 감소의 안정성을 보임. 정규화를 적용하지 않은 모델에 비해 손실 감소가 일관적인 경향을 보임.\n",
        "\n",
        "**이를 통해, 정규화가 딥러닝 모델의 학습 과정에 긍정적인 영향을 미칠 수 있음을 알 수 있다. 정규화는 각 입력 특성의 스케일을 조정하여, 모델이 더욱 빠르고 안정적으로 최적화할 수 있도록 도와준다.**\n"
      ],
      "metadata": {
        "id": "tFDkWivBj9Me"
      }
    },
    {
      "cell_type": "markdown",
      "source": [
        "\n",
        "\n",
        "---\n",
        "\n"
      ],
      "metadata": {
        "id": "qeuyY5CJiM-c"
      }
    },
    {
      "cell_type": "markdown",
      "source": [
        "* optimizer를 SGD / SGD+Momentum / SGD+Nestrov Momentum / AdaGrad / RMSProp / Adam 를 사용 하였을 때 어떤 결과가 있는지 epoch / loss plot을 그려서 비교하세요. (하나의 plot에 나오도록 해야함) (20)"
      ],
      "metadata": {
        "id": "eIynPM5ClbYB"
      }
    },
    {
      "cell_type": "code",
      "source": [
        "import os\n",
        "import torch\n",
        "from torch import nn\n",
        "from torch.utils.data import Dataset\n",
        "from torch.utils.data import DataLoader, random_split\n",
        "from torchvision import datasets, transforms\n",
        "from torchvision.transforms import ToTensor\n",
        "import matplotlib.pyplot as plt"
      ],
      "metadata": {
        "id": "hAgyLcgJBlMv"
      },
      "execution_count": 13,
      "outputs": []
    },
    {
      "cell_type": "code",
      "source": [
        "import torch.nn.functional as F\n",
        "import torch.optim as optim"
      ],
      "metadata": {
        "id": "Rs54Lf9CBuyW"
      },
      "execution_count": 14,
      "outputs": []
    },
    {
      "cell_type": "code",
      "source": [
        "device = torch.device(\"cuda\" if torch.cuda.is_available() else \"cpu\")\n",
        "print(device)"
      ],
      "metadata": {
        "colab": {
          "base_uri": "https://localhost:8080/"
        },
        "id": "rWnvUQNsB9B1",
        "outputId": "4127d66f-5e39-482e-bb55-6f7d44d3af9b"
      },
      "execution_count": 15,
      "outputs": [
        {
          "output_type": "stream",
          "name": "stdout",
          "text": [
            "cuda\n"
          ]
        }
      ]
    },
    {
      "cell_type": "code",
      "source": [
        "# FashionMMIST 데이터셋 로딩\n",
        "transform= transforms.Compose([\n",
        "    transforms.ToTensor(),\n",
        "    transforms.Normalize((0.5,), (0.5,))  # Normalize data\n",
        "])\n",
        "dataset = datasets.FashionMNIST(root='./data', download=True, train=True, transform=transform)\n",
        "test_dataset=datasets.FashionMNIST(root='./data', download=True, train=False, transform=transform)\n",
        "\n",
        "# 데이터 분할 (data를 8:1:1로 train / validation / test로 분리)\n",
        "total_train = len(dataset)\n",
        "train_size = int(total_train * 0.8)\n",
        "valid_size = int(total_train * 0.1)\n",
        "test_size = total_train - train_size - valid_size # 정확한 test_size 계산 (모든 데이터의 총합이 1이 되도록 함)\n",
        "\n",
        "train_dataset, remaining_dataset = random_split(dataset, [train_size, total_train - train_size])\n",
        "valid_dataset, test_dataset = random_split(remaining_dataset, [valid_size, test_size])\n",
        "\n",
        "# 훈련 과정에서는 데이터의 다양성을 확보하고 과적합을 방지하기 위해 데이터를 셔플링하고, 검증 및 테스트 단계에서는 모델 성능의 일관된 평가를 위해 셔플링 X\n",
        "train_loader = DataLoader(train_dataset, batch_size=64, shuffle=True)\n",
        "valid_loader = DataLoader(valid_dataset, batch_size=64, shuffle=False)\n",
        "test_loader = DataLoader(test_dataset, batch_size=64, shuffle=False)"
      ],
      "metadata": {
        "id": "_pOc6Kq5ljMC"
      },
      "execution_count": 18,
      "outputs": []
    },
    {
      "cell_type": "code",
      "source": [
        "# MLP 구현\n",
        "class MLP(torch.nn.Module):\n",
        "  def __init__(self):\n",
        "    super(MLP, self).__init__()\n",
        "    self.linear_relu_stack=nn.Sequential(\n",
        "        nn.Flatten(),\n",
        "        nn.Linear(28*28, 512),\n",
        "        nn.ReLU(),\n",
        "        nn.Linear(512, 512),\n",
        "        nn.ReLU(),\n",
        "        nn.Linear(512, 10),\n",
        "    )\n",
        "  def forward(self, x):\n",
        "    logits = self.linear_relu_stack(x)\n",
        "    return logits"
      ],
      "metadata": {
        "id": "-j2Dldm9ljIl"
      },
      "execution_count": 19,
      "outputs": []
    },
    {
      "cell_type": "code",
      "source": [
        "# 훈련 함수\n",
        "def train_model(model, train_loader, optimizer, epochs=20):\n",
        "    criterion = nn.CrossEntropyLoss()\n",
        "    model.train()\n",
        "    losses = []\n",
        "    for epoch in range(epochs):\n",
        "        total_loss = 0\n",
        "        for data, targets in train_loader:\n",
        "            data, targets = data.to(device), targets.to(device)\n",
        "            optimizer.zero_grad()\n",
        "            outputs = model(data)\n",
        "            loss = criterion(outputs, targets)\n",
        "            loss.backward()\n",
        "            optimizer.step()\n",
        "            total_loss += loss.item()\n",
        "        avg_loss = total_loss / len(train_loader)\n",
        "        losses.append(avg_loss)\n",
        "        print(f\"Epoch {epoch+1}/{epochs}, Loss: {avg_loss:.4f}\")\n",
        "    return losses"
      ],
      "metadata": {
        "id": "FTU8TsMqGiKA"
      },
      "execution_count": 24,
      "outputs": []
    },
    {
      "cell_type": "code",
      "source": [
        "# 훈련 및 결과 추적\n",
        "optimizers = {\n",
        "    'SGD': optim.SGD,\n",
        "    'SGD_Momentum': lambda params: optim.SGD(params, lr=0.01, momentum=0.9),\n",
        "    'SGD_Nesterov': lambda params: optim.SGD(params, lr=0.01, momentum=0.9, nesterov=True),\n",
        "    'AdaGrad': lambda params: optim.Adagrad(params, lr=0.01),\n",
        "    'RMSProp': lambda params: optim.RMSprop(params, lr=0.01),\n",
        "    'Adam': lambda params: optim.Adam(params, lr=0.01)\n",
        "}\n",
        "\n",
        "results = {}\n",
        "for name, opt_func in optimizers.items():\n",
        "    print(f\"Training with {name}\")\n",
        "    model = MLP().to(device)\n",
        "    optimizer = opt_func(model.parameters())\n",
        "    losses = train_model(model, train_loader, optimizer)\n",
        "    results[name] = losses"
      ],
      "metadata": {
        "colab": {
          "base_uri": "https://localhost:8080/"
        },
        "id": "mR_Lkb5_Iaan",
        "outputId": "21715013-76e3-44a9-e537-ffc9f900dd46"
      },
      "execution_count": 25,
      "outputs": [
        {
          "output_type": "stream",
          "name": "stdout",
          "text": [
            "Training with SGD\n",
            "Epoch 1/20, Loss: 2.0787\n",
            "Epoch 2/20, Loss: 1.5186\n",
            "Epoch 3/20, Loss: 1.1137\n",
            "Epoch 4/20, Loss: 0.9106\n",
            "Epoch 5/20, Loss: 0.7996\n",
            "Epoch 6/20, Loss: 0.7329\n",
            "Epoch 7/20, Loss: 0.6891\n",
            "Epoch 8/20, Loss: 0.6577\n",
            "Epoch 9/20, Loss: 0.6334\n",
            "Epoch 10/20, Loss: 0.6134\n",
            "Epoch 11/20, Loss: 0.5967\n",
            "Epoch 12/20, Loss: 0.5820\n",
            "Epoch 13/20, Loss: 0.5689\n",
            "Epoch 14/20, Loss: 0.5571\n",
            "Epoch 15/20, Loss: 0.5466\n",
            "Epoch 16/20, Loss: 0.5371\n",
            "Epoch 17/20, Loss: 0.5285\n",
            "Epoch 18/20, Loss: 0.5205\n",
            "Epoch 19/20, Loss: 0.5133\n",
            "Epoch 20/20, Loss: 0.5066\n",
            "Training with SGD_Momentum\n",
            "Epoch 1/20, Loss: 0.5801\n",
            "Epoch 2/20, Loss: 0.3969\n",
            "Epoch 3/20, Loss: 0.3520\n",
            "Epoch 4/20, Loss: 0.3249\n",
            "Epoch 5/20, Loss: 0.3061\n",
            "Epoch 6/20, Loss: 0.2828\n",
            "Epoch 7/20, Loss: 0.2702\n",
            "Epoch 8/20, Loss: 0.2531\n",
            "Epoch 9/20, Loss: 0.2437\n",
            "Epoch 10/20, Loss: 0.2333\n",
            "Epoch 11/20, Loss: 0.2229\n",
            "Epoch 12/20, Loss: 0.2129\n",
            "Epoch 13/20, Loss: 0.2023\n",
            "Epoch 14/20, Loss: 0.1944\n",
            "Epoch 15/20, Loss: 0.1824\n",
            "Epoch 16/20, Loss: 0.1745\n",
            "Epoch 17/20, Loss: 0.1712\n",
            "Epoch 18/20, Loss: 0.1598\n",
            "Epoch 19/20, Loss: 0.1508\n",
            "Epoch 20/20, Loss: 0.1474\n",
            "Training with SGD_Nesterov\n",
            "Epoch 1/20, Loss: 0.5610\n",
            "Epoch 2/20, Loss: 0.3844\n",
            "Epoch 3/20, Loss: 0.3448\n",
            "Epoch 4/20, Loss: 0.3169\n",
            "Epoch 5/20, Loss: 0.2942\n",
            "Epoch 6/20, Loss: 0.2794\n",
            "Epoch 7/20, Loss: 0.2640\n",
            "Epoch 8/20, Loss: 0.2501\n",
            "Epoch 9/20, Loss: 0.2362\n",
            "Epoch 10/20, Loss: 0.2259\n",
            "Epoch 11/20, Loss: 0.2174\n",
            "Epoch 12/20, Loss: 0.2045\n",
            "Epoch 13/20, Loss: 0.1956\n",
            "Epoch 14/20, Loss: 0.1838\n",
            "Epoch 15/20, Loss: 0.1779\n",
            "Epoch 16/20, Loss: 0.1705\n",
            "Epoch 17/20, Loss: 0.1630\n",
            "Epoch 18/20, Loss: 0.1535\n",
            "Epoch 19/20, Loss: 0.1472\n",
            "Epoch 20/20, Loss: 0.1393\n",
            "Training with AdaGrad\n",
            "Epoch 1/20, Loss: 0.5147\n",
            "Epoch 2/20, Loss: 0.3541\n",
            "Epoch 3/20, Loss: 0.3156\n",
            "Epoch 4/20, Loss: 0.2925\n",
            "Epoch 5/20, Loss: 0.2728\n",
            "Epoch 6/20, Loss: 0.2563\n",
            "Epoch 7/20, Loss: 0.2426\n",
            "Epoch 8/20, Loss: 0.2308\n",
            "Epoch 9/20, Loss: 0.2200\n",
            "Epoch 10/20, Loss: 0.2093\n",
            "Epoch 11/20, Loss: 0.1998\n",
            "Epoch 12/20, Loss: 0.1897\n",
            "Epoch 13/20, Loss: 0.1813\n",
            "Epoch 14/20, Loss: 0.1740\n",
            "Epoch 15/20, Loss: 0.1669\n",
            "Epoch 16/20, Loss: 0.1588\n",
            "Epoch 17/20, Loss: 0.1516\n",
            "Epoch 18/20, Loss: 0.1449\n",
            "Epoch 19/20, Loss: 0.1374\n",
            "Epoch 20/20, Loss: 0.1323\n",
            "Training with RMSProp\n",
            "Epoch 1/20, Loss: 16.8035\n",
            "Epoch 2/20, Loss: 0.6213\n",
            "Epoch 3/20, Loss: 0.5314\n",
            "Epoch 4/20, Loss: 0.5013\n",
            "Epoch 5/20, Loss: 0.4754\n",
            "Epoch 6/20, Loss: 0.4559\n",
            "Epoch 7/20, Loss: 0.4712\n",
            "Epoch 8/20, Loss: 0.4678\n",
            "Epoch 9/20, Loss: 0.4385\n",
            "Epoch 10/20, Loss: 0.4417\n",
            "Epoch 11/20, Loss: 0.4306\n",
            "Epoch 12/20, Loss: 0.4321\n",
            "Epoch 13/20, Loss: 0.4283\n",
            "Epoch 14/20, Loss: 0.4367\n",
            "Epoch 15/20, Loss: 0.4244\n",
            "Epoch 16/20, Loss: 0.4400\n",
            "Epoch 17/20, Loss: 0.4188\n",
            "Epoch 18/20, Loss: 0.4757\n",
            "Epoch 19/20, Loss: 0.4398\n",
            "Epoch 20/20, Loss: 0.4342\n",
            "Training with Adam\n",
            "Epoch 1/20, Loss: 0.6207\n",
            "Epoch 2/20, Loss: 0.4722\n",
            "Epoch 3/20, Loss: 0.4523\n",
            "Epoch 4/20, Loss: 0.4304\n",
            "Epoch 5/20, Loss: 0.4129\n",
            "Epoch 6/20, Loss: 0.4040\n",
            "Epoch 7/20, Loss: 0.3959\n",
            "Epoch 8/20, Loss: 0.3964\n",
            "Epoch 9/20, Loss: 0.3873\n",
            "Epoch 10/20, Loss: 0.3785\n",
            "Epoch 11/20, Loss: 0.3879\n",
            "Epoch 12/20, Loss: 0.3768\n",
            "Epoch 13/20, Loss: 0.3762\n",
            "Epoch 14/20, Loss: 0.3671\n",
            "Epoch 15/20, Loss: 0.3743\n",
            "Epoch 16/20, Loss: 0.3736\n",
            "Epoch 17/20, Loss: 0.3695\n",
            "Epoch 18/20, Loss: 0.3559\n",
            "Epoch 19/20, Loss: 0.3620\n",
            "Epoch 20/20, Loss: 0.3554\n"
          ]
        }
      ]
    },
    {
      "cell_type": "code",
      "source": [
        "import matplotlib.pyplot as plt\n",
        "\n",
        "# 결과 플롯\n",
        "plt.figure(figsize=(12, 8))  # 그래프 크기 조정\n",
        "for name, losses in results.items():\n",
        "    plt.plot(losses, label=f'{name}', linewidth=2, marker='o', markersize=5)  # 선 두께 및 마커 설정\n",
        "plt.title('Loss per Epoch for Different Optimizers', fontsize=16)  # 제목 및 폰트 크기 설정\n",
        "plt.xlabel('Epoch', fontsize=14)  # X축 레이블\n",
        "plt.ylabel('Loss', fontsize=14)  # Y축 레이블\n",
        "plt.yscale('log')  # Y축을 로그 스케일로 변경\n",
        "plt.grid(True)  # 그리드 추가\n",
        "plt.legend(loc='upper right', bbox_to_anchor=(1.15, 1))  # 범례 위치 조정\n",
        "plt.show()\n"
      ],
      "metadata": {
        "colab": {
          "base_uri": "https://localhost:8080/",
          "height": 725
        },
        "id": "uiSyM0OgJpGd",
        "outputId": "4c5a49db-879a-4cfa-90d6-df966d8f065b"
      },
      "execution_count": 28,
      "outputs": [
        {
          "output_type": "display_data",
          "data": {
            "text/plain": [
              "<Figure size 1200x800 with 1 Axes>"
            ],
            "image/png": "[encoded data removed]"
          },
          "metadata": {}
        }
      ]
    },
    {
      "cell_type": "markdown",
      "source": [
        "\n",
        "\n",
        "---\n",
        "\n"
      ],
      "metadata": {
        "id": "vuO_Z-WZljyB"
      }
    },
    {
      "cell_type": "markdown",
      "source": [
        "*  Dropout을 적용했을 때 성능 변화를 epoch / loss / accuracy를 사용하여 비교하세요 (10)\n"
      ],
      "metadata": {
        "id": "gY_lbXm0llBW"
      }
    },
    {
      "cell_type": "code",
      "source": [
        "# MLP 구현\n",
        "class MLP(torch.nn.Module):\n",
        "  def __init__(self):\n",
        "    super(MLP, self).__init__()\n",
        "    self.linear_relu_stack=nn.Sequential(\n",
        "        nn.Flatten(),\n",
        "        nn.Linear(28*28, 512),\n",
        "        nn.ReLU(),\n",
        "        nn.Dropout(p=0.5), # Dropout 적용\n",
        "        nn.Linear(512, 512),\n",
        "        nn.ReLU(),\n",
        "        nn.Dropout(p=0.5), # Dropout 적용\n",
        "        nn.Linear(512, 10),\n",
        "    )\n",
        "  def forward(self, x):\n",
        "    logits = self.linear_relu_stack(x)\n",
        "    return logits"
      ],
      "metadata": {
        "id": "4DKt7HMWln8c"
      },
      "execution_count": 29,
      "outputs": []
    },
    {
      "cell_type": "code",
      "source": [
        "device = 'cuda' if torch.cuda.is_available() else 'cpu'\n",
        "lr = 0.001\n",
        "model=MLP().to(device)\n",
        "criterion = torch.nn.CrossEntropyLoss().to(device)\n",
        "optimizer = torch.optim.Adam(model.parameters(), lr=lr, weight_decay=0.01) # Adam 사용"
      ],
      "metadata": {
        "id": "0McsM_S1loem"
      },
      "execution_count": 30,
      "outputs": []
    },
    {
      "cell_type": "code",
      "source": [
        "# 학습 함수\n",
        "def train(model, dataloader, optimizer, criterion):\n",
        "    model.train() # 모델을 훈련 모드로 설정\n",
        "    total_loss = 0\n",
        "    correct = 0\n",
        "    for images, labels in dataloader:\n",
        "        images, labels = images.to(device), labels.to(device) # 데이터를 device 로 이동\n",
        "        optimizer.zero_grad() # 옵티마이저의 gradient 초기화\n",
        "        outputs = model(images) # 모델을 통해 예측 수행\n",
        "        loss = criterion(outputs, labels) # 손실 계산\n",
        "        loss.backward() # 손실에 대한 gradient 계산\n",
        "        optimizer.step() # 모델의 파라미터 업데이트\n",
        "        total_loss += loss.item()\n",
        "        _, predicted = torch.max(outputs, 1) # 가장 높은 점수를 가진 클래스 선택\n",
        "        correct += (predicted == labels).sum().item() # 정확하게 예측된 샘플 수\n",
        "    accuracy = correct / len(dataloader.dataset) # 정확도 계산\n",
        "    return total_loss / len(dataloader), accuracy # 평균 손실과 정확도 반환\n",
        "\n",
        "# 평가 함수\n",
        "def evaluate(model, dataloader, criterion):\n",
        "    model.eval() # 모델을 평가 모드로 설정\n",
        "    total_loss = 0\n",
        "    correct = 0\n",
        "    with torch.no_grad(): # gradient 계산을 비활성화\n",
        "        for images, labels in dataloader:\n",
        "            images, labels = images.to(device), labels.to(device)\n",
        "            outputs = model(images)\n",
        "            loss = criterion(outputs, labels)\n",
        "            total_loss += loss.item()\n",
        "            _, predicted = torch.max(outputs, 1)\n",
        "            correct += (predicted == labels).sum().item()\n",
        "    accuracy = correct / len(dataloader.dataset)\n",
        "    return total_loss / len(dataloader), accuracy\n",
        "\n",
        "# 모델 학습 및 평가\n",
        "for epoch in range(20):\n",
        "    train_loss, train_accuracy = train(model, train_loader, optimizer, criterion)\n",
        "    valid_loss, valid_accuracy = evaluate(model, valid_loader, criterion)\n",
        "    print(\"=====\")\n",
        "    print(f'Epoch {epoch+1}')\n",
        "    print(f'Train Loss: {train_loss:.4f}, Train Accuracy: {train_accuracy:.4f}')\n",
        "    print(f'Valid Loss: {valid_loss:.4f}, Valid Accuracy: {valid_accuracy:.4f}')\n",
        "\n",
        "# 테스트 데이터에 대한 평가\n",
        "test_loss, test_accuracy = evaluate(model, test_loader, criterion)\n",
        "print(\"=====\")\n",
        "print(f'Test Loss: {test_loss:.4f}, Test Accuracy: {test_accuracy:.4f}')"
      ],
      "metadata": {
        "id": "vqIIvQgNloTl",
        "colab": {
          "base_uri": "https://localhost:8080/"
        },
        "outputId": "7984bc6f-80e7-448d-f262-442b188d8d07"
      },
      "execution_count": 31,
      "outputs": [
        {
          "output_type": "stream",
          "name": "stdout",
          "text": [
            "=====\n",
            "Epoch 1\n",
            "Train Loss: 0.6931, Train Accuracy: 0.7462\n",
            "Valid Loss: 0.5311, Valid Accuracy: 0.8117\n",
            "=====\n",
            "Epoch 2\n",
            "Train Loss: 0.6196, Train Accuracy: 0.7741\n",
            "Valid Loss: 0.5339, Valid Accuracy: 0.8038\n",
            "=====\n",
            "Epoch 3\n",
            "Train Loss: 0.6142, Train Accuracy: 0.7794\n",
            "Valid Loss: 0.5201, Valid Accuracy: 0.8063\n",
            "=====\n",
            "Epoch 4\n",
            "Train Loss: 0.6103, Train Accuracy: 0.7813\n",
            "Valid Loss: 0.5284, Valid Accuracy: 0.8012\n",
            "=====\n",
            "Epoch 5\n",
            "Train Loss: 0.6057, Train Accuracy: 0.7814\n",
            "Valid Loss: 0.5233, Valid Accuracy: 0.8182\n",
            "=====\n",
            "Epoch 6\n",
            "Train Loss: 0.6008, Train Accuracy: 0.7862\n",
            "Valid Loss: 0.5076, Valid Accuracy: 0.8118\n",
            "=====\n",
            "Epoch 7\n",
            "Train Loss: 0.6026, Train Accuracy: 0.7845\n",
            "Valid Loss: 0.5078, Valid Accuracy: 0.8208\n",
            "=====\n",
            "Epoch 8\n",
            "Train Loss: 0.5982, Train Accuracy: 0.7861\n",
            "Valid Loss: 0.4830, Valid Accuracy: 0.8233\n",
            "=====\n",
            "Epoch 9\n",
            "Train Loss: 0.5971, Train Accuracy: 0.7870\n",
            "Valid Loss: 0.5068, Valid Accuracy: 0.8120\n",
            "=====\n",
            "Epoch 10\n",
            "Train Loss: 0.5972, Train Accuracy: 0.7869\n",
            "Valid Loss: 0.5056, Valid Accuracy: 0.8095\n",
            "=====\n",
            "Epoch 11\n",
            "Train Loss: 0.5989, Train Accuracy: 0.7866\n",
            "Valid Loss: 0.4881, Valid Accuracy: 0.8255\n",
            "=====\n",
            "Epoch 12\n",
            "Train Loss: 0.5990, Train Accuracy: 0.7859\n",
            "Valid Loss: 0.4839, Valid Accuracy: 0.8203\n",
            "=====\n",
            "Epoch 13\n",
            "Train Loss: 0.5899, Train Accuracy: 0.7894\n",
            "Valid Loss: 0.5112, Valid Accuracy: 0.8105\n",
            "=====\n",
            "Epoch 14\n",
            "Train Loss: 0.5947, Train Accuracy: 0.7863\n",
            "Valid Loss: 0.4915, Valid Accuracy: 0.8212\n",
            "=====\n",
            "Epoch 15\n",
            "Train Loss: 0.5908, Train Accuracy: 0.7882\n",
            "Valid Loss: 0.4765, Valid Accuracy: 0.8267\n",
            "=====\n",
            "Epoch 16\n",
            "Train Loss: 0.5967, Train Accuracy: 0.7857\n",
            "Valid Loss: 0.4715, Valid Accuracy: 0.8278\n",
            "=====\n",
            "Epoch 17\n",
            "Train Loss: 0.5962, Train Accuracy: 0.7859\n",
            "Valid Loss: 0.4967, Valid Accuracy: 0.8267\n",
            "=====\n",
            "Epoch 18\n",
            "Train Loss: 0.5973, Train Accuracy: 0.7876\n",
            "Valid Loss: 0.4867, Valid Accuracy: 0.8275\n",
            "=====\n",
            "Epoch 19\n",
            "Train Loss: 0.5992, Train Accuracy: 0.7860\n",
            "Valid Loss: 0.4865, Valid Accuracy: 0.8235\n",
            "=====\n",
            "Epoch 20\n",
            "Train Loss: 0.5954, Train Accuracy: 0.7884\n",
            "Valid Loss: 0.5192, Valid Accuracy: 0.8165\n",
            "=====\n",
            "Test Loss: 0.5130, Test Accuracy: 0.8213\n"
          ]
        }
      ]
    },
    {
      "cell_type": "markdown",
      "source": [
        "* Drop out 사용\n",
        "\n",
        "Epoch 20\n",
        "\n",
        "Train Loss: 0.5954, Train Accuracy: 0.7884\n",
        "\n",
        "Valid Loss: 0.5192, Valid Accuracy: 0.8165\n",
        "\n",
        "  => Test Loss: 0.5130, Test Accuracy: 0.8213"
      ],
      "metadata": {
        "id": "ExUBbbHGTIax"
      }
    },
    {
      "cell_type": "markdown",
      "source": [
        "* Drop out 사용 X\n",
        "\n",
        "Epoch 20\n",
        "\n",
        "Train Loss: 0.6608, Train Accuracy: 0.7695\n",
        "\n",
        "Valid Loss: 0.6695, Valid Accuracy: 0.7647\n",
        "\n",
        "  => Test Loss: 0.6525, Test Accuracy: 0.7778"
      ],
      "metadata": {
        "id": "X7pKsHGaUdAq"
      }
    },
    {
      "cell_type": "markdown",
      "source": [
        "드롭아웃을 적용했을 때, 모든 평가 지표에서 성능이 향상된 것을 볼 수 있다. 드롭아웃을 사용하지 않았을 때 대비 훈련, 검증, 테스트의 손실이 모두 낮아졌고, 정확도 또한 전반적으로 개선되었다. 특히 테스트 정확도에서 약 4% 이상의 개선이 관찰된다.\n",
        "\n",
        "이는 드롭아웃이 모델의 과적합을 방지하고, 더 일반화된 모델을 만드는 데 도움을 준다는 것을 보여준다. 훈련 과정에서 일부 뉴런의 활성을 무작위로 제거함으로써, 모델이 훈련 데이터의 잡음에 덜 민감하게 반응하고, 실제 세계 데이터에 대해 더 강력하고 안정적으로 예측할 수 있게 된다."
      ],
      "metadata": {
        "id": "g7FxaCgCVles"
      }
    },
    {
      "cell_type": "markdown",
      "source": [
        "\n",
        "\n",
        "---\n",
        "\n"
      ],
      "metadata": {
        "id": "5lNPRNAUlpIw"
      }
    },
    {
      "cell_type": "markdown",
      "source": [
        "* MLP model에 batch normalization layer를 추가 했을 때 어떤 변화가 있는지 답하세요 (10)"
      ],
      "metadata": {
        "id": "izBjkTVUlql_"
      }
    },
    {
      "cell_type": "code",
      "source": [
        "# MLP 구현\n",
        "class MLP(torch.nn.Module):\n",
        "  def __init__(self):\n",
        "    super(MLP, self).__init__()\n",
        "    self.linear_relu_stack=nn.Sequential(\n",
        "        nn.Flatten(),\n",
        "        nn.Linear(28*28, 512),\n",
        "        nn.BatchNorm1d(512), # batch normalization layer 추가\n",
        "        nn.ReLU(),\n",
        "        nn.Dropout(p=0.5), # Dropout 적용\n",
        "        nn.Linear(512, 512),\n",
        "        nn.BatchNorm1d(512), # batch normalization layer 추가\n",
        "        nn.ReLU(),\n",
        "        nn.Dropout(p=0.5), # Dropout 적용\n",
        "        nn.Linear(512, 10),\n",
        "    )\n",
        "  def forward(self, x):\n",
        "    logits = self.linear_relu_stack(x)\n",
        "    return logits"
      ],
      "metadata": {
        "id": "ukkPxmPWlvMS"
      },
      "execution_count": 32,
      "outputs": []
    },
    {
      "cell_type": "code",
      "source": [
        "device = 'cuda' if torch.cuda.is_available() else 'cpu'\n",
        "lr = 0.001\n",
        "model=MLP().to(device)\n",
        "criterion = torch.nn.CrossEntropyLoss().to(device)\n",
        "optimizer = torch.optim.Adam(model.parameters(), lr=lr, weight_decay=0.01) # Adam 사용"
      ],
      "metadata": {
        "id": "PXoh92tkpUxQ"
      },
      "execution_count": 33,
      "outputs": []
    },
    {
      "cell_type": "code",
      "source": [
        "# 학습 함수\n",
        "def train(model, dataloader, optimizer, criterion):\n",
        "    model.train() # 모델을 훈련 모드로 설정\n",
        "    total_loss = 0\n",
        "    correct = 0\n",
        "    for images, labels in dataloader:\n",
        "        images, labels = images.to(device), labels.to(device) # 데이터를 device 로 이동\n",
        "        optimizer.zero_grad() # 옵티마이저의 gradient 초기화\n",
        "        outputs = model(images) # 모델을 통해 예측 수행\n",
        "        loss = criterion(outputs, labels) # 손실 계산\n",
        "        loss.backward() # 손실에 대한 gradient 계산\n",
        "        optimizer.step() # 모델의 파라미터 업데이트\n",
        "        total_loss += loss.item()\n",
        "        _, predicted = torch.max(outputs, 1) # 가장 높은 점수를 가진 클래스 선택\n",
        "        correct += (predicted == labels).sum().item() # 정확하게 예측된 샘플 수\n",
        "    accuracy = correct / len(dataloader.dataset) # 정확도 계산\n",
        "    return total_loss / len(dataloader), accuracy # 평균 손실과 정확도 반환\n",
        "\n",
        "# 평가 함수\n",
        "def evaluate(model, dataloader, criterion):\n",
        "    model.eval() # 모델을 평가 모드로 설정\n",
        "    total_loss = 0\n",
        "    correct = 0\n",
        "    with torch.no_grad(): # gradient 계산을 비활성화\n",
        "        for images, labels in dataloader:\n",
        "            images, labels = images.to(device), labels.to(device)\n",
        "            outputs = model(images)\n",
        "            loss = criterion(outputs, labels)\n",
        "            total_loss += loss.item()\n",
        "            _, predicted = torch.max(outputs, 1)\n",
        "            correct += (predicted == labels).sum().item()\n",
        "    accuracy = correct / len(dataloader.dataset)\n",
        "    return total_loss / len(dataloader), accuracy\n",
        "\n",
        "# 모델 학습 및 평가\n",
        "for epoch in range(20):\n",
        "    train_loss, train_accuracy = train(model, train_loader, optimizer, criterion)\n",
        "    valid_loss, valid_accuracy = evaluate(model, valid_loader, criterion)\n",
        "    print(\"=====\")\n",
        "    print(f'Epoch {epoch+1}')\n",
        "    print(f'Train Loss: {train_loss:.4f}, Train Accuracy: {train_accuracy:.4f}')\n",
        "    print(f'Valid Loss: {valid_loss:.4f}, Valid Accuracy: {valid_accuracy:.4f}')\n",
        "\n",
        "# 테스트 데이터에 대한 평가\n",
        "test_loss, test_accuracy = evaluate(model, test_loader, criterion)\n",
        "print(\"=====\")\n",
        "print(f'Test Loss: {test_loss:.4f}, Test Accuracy: {test_accuracy:.4f}')"
      ],
      "metadata": {
        "colab": {
          "base_uri": "https://localhost:8080/"
        },
        "id": "PhwMy6kAL_uN",
        "outputId": "949c03a2-0b34-42b6-880d-abcee39301da"
      },
      "execution_count": 34,
      "outputs": [
        {
          "output_type": "stream",
          "name": "stdout",
          "text": [
            "=====\n",
            "Epoch 1\n",
            "Train Loss: 0.6115, Train Accuracy: 0.7843\n",
            "Valid Loss: 0.5122, Valid Accuracy: 0.8228\n",
            "=====\n",
            "Epoch 2\n",
            "Train Loss: 0.5889, Train Accuracy: 0.7995\n",
            "Valid Loss: 0.5587, Valid Accuracy: 0.8187\n",
            "=====\n",
            "Epoch 3\n",
            "Train Loss: 0.5993, Train Accuracy: 0.8011\n",
            "Valid Loss: 0.5648, Valid Accuracy: 0.8047\n",
            "=====\n",
            "Epoch 4\n",
            "Train Loss: 0.6011, Train Accuracy: 0.7971\n",
            "Valid Loss: 0.5015, Valid Accuracy: 0.8312\n",
            "=====\n",
            "Epoch 5\n",
            "Train Loss: 0.5983, Train Accuracy: 0.8015\n",
            "Valid Loss: 0.5375, Valid Accuracy: 0.8153\n",
            "=====\n",
            "Epoch 6\n",
            "Train Loss: 0.5986, Train Accuracy: 0.8007\n",
            "Valid Loss: 0.5145, Valid Accuracy: 0.8287\n",
            "=====\n",
            "Epoch 7\n",
            "Train Loss: 0.5950, Train Accuracy: 0.8016\n",
            "Valid Loss: 0.5205, Valid Accuracy: 0.8255\n",
            "=====\n",
            "Epoch 8\n",
            "Train Loss: 0.5986, Train Accuracy: 0.8015\n",
            "Valid Loss: 0.6033, Valid Accuracy: 0.7857\n",
            "=====\n",
            "Epoch 9\n",
            "Train Loss: 0.5965, Train Accuracy: 0.8011\n",
            "Valid Loss: 0.5185, Valid Accuracy: 0.8262\n",
            "=====\n",
            "Epoch 10\n",
            "Train Loss: 0.5986, Train Accuracy: 0.8005\n",
            "Valid Loss: 0.5121, Valid Accuracy: 0.8295\n",
            "=====\n",
            "Epoch 11\n",
            "Train Loss: 0.5949, Train Accuracy: 0.8012\n",
            "Valid Loss: 0.5059, Valid Accuracy: 0.8273\n",
            "=====\n",
            "Epoch 12\n",
            "Train Loss: 0.5943, Train Accuracy: 0.8014\n",
            "Valid Loss: 0.4960, Valid Accuracy: 0.8363\n",
            "=====\n",
            "Epoch 13\n",
            "Train Loss: 0.5945, Train Accuracy: 0.8017\n",
            "Valid Loss: 0.5425, Valid Accuracy: 0.8258\n",
            "=====\n",
            "Epoch 14\n",
            "Train Loss: 0.5986, Train Accuracy: 0.8012\n",
            "Valid Loss: 0.5203, Valid Accuracy: 0.8213\n",
            "=====\n",
            "Epoch 15\n",
            "Train Loss: 0.5961, Train Accuracy: 0.8028\n",
            "Valid Loss: 0.4948, Valid Accuracy: 0.8358\n",
            "=====\n",
            "Epoch 16\n",
            "Train Loss: 0.5951, Train Accuracy: 0.8014\n",
            "Valid Loss: 0.5177, Valid Accuracy: 0.8247\n",
            "=====\n",
            "Epoch 17\n",
            "Train Loss: 0.5942, Train Accuracy: 0.8005\n",
            "Valid Loss: 0.5065, Valid Accuracy: 0.8320\n",
            "=====\n",
            "Epoch 18\n",
            "Train Loss: 0.5944, Train Accuracy: 0.8026\n",
            "Valid Loss: 0.5198, Valid Accuracy: 0.8242\n",
            "=====\n",
            "Epoch 19\n",
            "Train Loss: 0.5956, Train Accuracy: 0.8038\n",
            "Valid Loss: 0.4988, Valid Accuracy: 0.8295\n",
            "=====\n",
            "Epoch 20\n",
            "Train Loss: 0.5945, Train Accuracy: 0.8042\n",
            "Valid Loss: 0.4934, Valid Accuracy: 0.8282\n",
            "=====\n",
            "Test Loss: 0.4821, Test Accuracy: 0.8373\n"
          ]
        }
      ]
    },
    {
      "cell_type": "markdown",
      "source": [
        "* batch normalization layer를 추가 X\n",
        "\n",
        "Epoch 20\n",
        "\n",
        "Train Loss: 0.5954, Train Accuracy: 0.7884\n",
        "\n",
        "Valid Loss: 0.5192, Valid Accuracy: 0.8165\n",
        "\n",
        "=> Test Loss: 0.5130, Test Accuracy: 0.8213"
      ],
      "metadata": {
        "id": "hJT0tsCiXwr3"
      }
    },
    {
      "cell_type": "markdown",
      "source": [
        "* batch normalization layer를 추가 O\n",
        "\n",
        "Epoch 20\n",
        "\n",
        "Train Loss: 0.5945, Train Accuracy: 0.8042\n",
        "\n",
        "Valid Loss: 0.4934, Valid Accuracy: 0.8282\n",
        "\n",
        "=> Test Loss: 0.4821, Test Accuracy: 0.8373\n"
      ],
      "metadata": {
        "id": "mjO6LemYX8un"
      }
    },
    {
      "cell_type": "markdown",
      "source": [
        "\n",
        "\n",
        "---\n",
        "\n"
      ],
      "metadata": {
        "id": "VVDxquXSpq_7"
      }
    },
    {
      "cell_type": "markdown",
      "source": [
        "* 위의 방법들과 hyper parameter tuning을 통해 모델의 성능을 향상시키고 결과를 report 하세요 (30)"
      ],
      "metadata": {
        "id": "Py-m-RkLplPe"
      }
    },
    {
      "cell_type": "code",
      "source": [
        "import os\n",
        "import torch\n",
        "from torch import nn\n",
        "from torch.utils.data import Dataset\n",
        "from torch.utils.data import DataLoader, random_split\n",
        "from torchvision import datasets, transforms\n",
        "from torchvision.transforms import ToTensor\n",
        "import matplotlib.pyplot as plt"
      ],
      "metadata": {
        "id": "MHUJ6BoOlvEy"
      },
      "execution_count": 35,
      "outputs": []
    },
    {
      "cell_type": "code",
      "source": [
        "import torch.nn.functional as F\n",
        "import torch.optim as optim"
      ],
      "metadata": {
        "id": "NtA6avBjMNLk"
      },
      "execution_count": 36,
      "outputs": []
    },
    {
      "cell_type": "code",
      "source": [
        "device = torch.device(\"cuda\" if torch.cuda.is_available() else \"cpu\")\n",
        "print(device)"
      ],
      "metadata": {
        "colab": {
          "base_uri": "https://localhost:8080/"
        },
        "id": "lPBOuf_6MNEo",
        "outputId": "bcdeddd9-8b80-4b25-a6b3-3a29bac271cf"
      },
      "execution_count": 37,
      "outputs": [
        {
          "output_type": "stream",
          "name": "stdout",
          "text": [
            "cuda\n"
          ]
        }
      ]
    },
    {
      "cell_type": "code",
      "source": [
        "# FashionMMIST 데이터셋 로딩\n",
        "transform= transforms.Compose([\n",
        "    transforms.ToTensor(),\n",
        "    transforms.Normalize((0.5,), (0.5,))  # Normalize data\n",
        "])\n",
        "dataset = datasets.FashionMNIST(root='./data', download=True, train=True, transform=transform)\n",
        "test_dataset=datasets.FashionMNIST(root='./data', download=True, train=False, transform=transform)\n",
        "\n",
        "# 데이터 분할 (data를 8:1:1로 train / validation / test로 분리)\n",
        "total_train = len(dataset)\n",
        "train_size = int(total_train * 0.8)\n",
        "valid_size = int(total_train * 0.1)\n",
        "test_size = total_train - train_size - valid_size # 정확한 test_size 계산 (모든 데이터의 총합이 1이 되도록 함)\n",
        "\n",
        "train_dataset, remaining_dataset = random_split(dataset, [train_size, total_train - train_size])\n",
        "valid_dataset, test_dataset = random_split(remaining_dataset, [valid_size, test_size])\n",
        "\n",
        "# 훈련 과정에서는 데이터의 다양성을 확보하고 과적합을 방지하기 위해 데이터를 셔플링하고, 검증 및 테스트 단계에서는 모델 성능의 일관된 평가를 위해 셔플링 X\n",
        "train_loader = DataLoader(train_dataset, batch_size=64, shuffle=True) # minibatch 사용\n",
        "valid_loader = DataLoader(valid_dataset, batch_size=64, shuffle=False) # minibatch 사용\n",
        "test_loader = DataLoader(test_dataset, batch_size=64, shuffle=False) # minibatch 사용"
      ],
      "metadata": {
        "id": "WxkmbSQpMM6Y"
      },
      "execution_count": 38,
      "outputs": []
    },
    {
      "cell_type": "code",
      "source": [
        "# MLP 구현\n",
        "class MLP(torch.nn.Module):\n",
        "  def __init__(self):\n",
        "    super(MLP, self).__init__()\n",
        "    self.linear_relu_stack=nn.Sequential(\n",
        "        nn.Flatten(),\n",
        "        nn.Linear(28*28, 512),\n",
        "        nn.BatchNorm1d(512), # batch normalization layer 추가\n",
        "        nn.ReLU(),\n",
        "        nn.Dropout(p=0.5), # Dropout 적용\n",
        "        nn.Linear(512, 512),\n",
        "        nn.BatchNorm1d(512), # batch normalization layer 추가\n",
        "        nn.ReLU(),\n",
        "        nn.Dropout(p=0.5), # Dropout 적용\n",
        "        nn.Linear(512, 10),\n",
        "    )\n",
        "  def forward(self, x):\n",
        "    logits = self.linear_relu_stack(x)\n",
        "    return logits"
      ],
      "metadata": {
        "id": "8eetijZ9MMvA"
      },
      "execution_count": 39,
      "outputs": []
    },
    {
      "cell_type": "code",
      "source": [
        "device = 'cuda' if torch.cuda.is_available() else 'cpu'\n",
        "lr = 0.001\n",
        "model=MLP().to(device)\n",
        "criterion = torch.nn.CrossEntropyLoss().to(device)\n",
        "optimizer = torch.optim.Adam(model.parameters(), lr=lr, weight_decay=0.01) # 최적화 함수 Adam 사용"
      ],
      "metadata": {
        "id": "JUB7yn0UMMhx"
      },
      "execution_count": 40,
      "outputs": []
    },
    {
      "cell_type": "code",
      "source": [
        "# 학습 함수\n",
        "def train(model, dataloader, optimizer, criterion):\n",
        "    model.train() # 모델을 훈련 모드로 설정\n",
        "    total_loss = 0\n",
        "    correct = 0\n",
        "    for images, labels in dataloader:\n",
        "        images, labels = images.to(device), labels.to(device) # 데이터를 device 로 이동\n",
        "        optimizer.zero_grad() # 옵티마이저의 gradient 초기화\n",
        "        outputs = model(images) # 모델을 통해 예측 수행\n",
        "        loss = criterion(outputs, labels) # 손실 계산\n",
        "        loss.backward() # 손실에 대한 gradient 계산\n",
        "        optimizer.step() # 모델의 파라미터 업데이트\n",
        "        total_loss += loss.item()\n",
        "        _, predicted = torch.max(outputs, 1) # 가장 높은 점수를 가진 클래스 선택\n",
        "        correct += (predicted == labels).sum().item() # 정확하게 예측된 샘플 수\n",
        "    accuracy = correct / len(dataloader.dataset) # 정확도 계산\n",
        "    return total_loss / len(dataloader), accuracy # 평균 손실과 정확도 반환\n",
        "\n",
        "# 평가 함수\n",
        "def evaluate(model, dataloader, criterion):\n",
        "    model.eval() # 모델을 평가 모드로 설정\n",
        "    total_loss = 0\n",
        "    correct = 0\n",
        "    with torch.no_grad(): # gradient 계산을 비활성화\n",
        "        for images, labels in dataloader:\n",
        "            images, labels = images.to(device), labels.to(device)\n",
        "            outputs = model(images)\n",
        "            loss = criterion(outputs, labels)\n",
        "            total_loss += loss.item()\n",
        "            _, predicted = torch.max(outputs, 1)\n",
        "            correct += (predicted == labels).sum().item()\n",
        "    accuracy = correct / len(dataloader.dataset)\n",
        "    return total_loss / len(dataloader), accuracy\n",
        "\n",
        "# 모델 학습 및 평가\n",
        "for epoch in range(20):\n",
        "    train_loss, train_accuracy = train(model, train_loader, optimizer, criterion)\n",
        "    valid_loss, valid_accuracy = evaluate(model, valid_loader, criterion)\n",
        "    print(\"=====\")\n",
        "    print(f'Epoch {epoch+1}')\n",
        "    print(f'Train Loss: {train_loss:.4f}, Train Accuracy: {train_accuracy:.4f}')\n",
        "    print(f'Valid Loss: {valid_loss:.4f}, Valid Accuracy: {valid_accuracy:.4f}')\n",
        "\n",
        "# 테스트 데이터에 대한 평가\n",
        "test_loss, test_accuracy = evaluate(model, test_loader, criterion)\n",
        "print(\"=====\")\n",
        "print(f'Test Loss: {test_loss:.4f}, Test Accuracy: {test_accuracy:.4f}')"
      ],
      "metadata": {
        "colab": {
          "base_uri": "https://localhost:8080/"
        },
        "id": "aGGIS2wyMyhv",
        "outputId": "877c63d7-575a-434e-8f9d-0a03d4d1cd50"
      },
      "execution_count": 41,
      "outputs": [
        {
          "output_type": "stream",
          "name": "stdout",
          "text": [
            "=====\n",
            "Epoch 1\n",
            "Train Loss: 0.6058, Train Accuracy: 0.7880\n",
            "Valid Loss: 0.5181, Valid Accuracy: 0.8145\n",
            "=====\n",
            "Epoch 2\n",
            "Train Loss: 0.5849, Train Accuracy: 0.8016\n",
            "Valid Loss: 0.5150, Valid Accuracy: 0.8220\n",
            "=====\n",
            "Epoch 3\n",
            "Train Loss: 0.5995, Train Accuracy: 0.7994\n",
            "Valid Loss: 0.5613, Valid Accuracy: 0.8113\n",
            "=====\n",
            "Epoch 4\n",
            "Train Loss: 0.5979, Train Accuracy: 0.8006\n",
            "Valid Loss: 0.4953, Valid Accuracy: 0.8313\n",
            "=====\n",
            "Epoch 5\n",
            "Train Loss: 0.5997, Train Accuracy: 0.8003\n",
            "Valid Loss: 0.5401, Valid Accuracy: 0.8118\n",
            "=====\n",
            "Epoch 6\n",
            "Train Loss: 0.5933, Train Accuracy: 0.8008\n",
            "Valid Loss: 0.5019, Valid Accuracy: 0.8280\n",
            "=====\n",
            "Epoch 7\n",
            "Train Loss: 0.5996, Train Accuracy: 0.7999\n",
            "Valid Loss: 0.4954, Valid Accuracy: 0.8373\n",
            "=====\n",
            "Epoch 8\n",
            "Train Loss: 0.5980, Train Accuracy: 0.8018\n",
            "Valid Loss: 0.5083, Valid Accuracy: 0.8248\n",
            "=====\n",
            "Epoch 9\n",
            "Train Loss: 0.5990, Train Accuracy: 0.7997\n",
            "Valid Loss: 0.4959, Valid Accuracy: 0.8348\n",
            "=====\n",
            "Epoch 10\n",
            "Train Loss: 0.5976, Train Accuracy: 0.8009\n",
            "Valid Loss: 0.5074, Valid Accuracy: 0.8267\n",
            "=====\n",
            "Epoch 11\n",
            "Train Loss: 0.5953, Train Accuracy: 0.8027\n",
            "Valid Loss: 0.4991, Valid Accuracy: 0.8312\n",
            "=====\n",
            "Epoch 12\n",
            "Train Loss: 0.5959, Train Accuracy: 0.8013\n",
            "Valid Loss: 0.5652, Valid Accuracy: 0.7973\n",
            "=====\n",
            "Epoch 13\n",
            "Train Loss: 0.5935, Train Accuracy: 0.8016\n",
            "Valid Loss: 0.4939, Valid Accuracy: 0.8325\n",
            "=====\n",
            "Epoch 14\n",
            "Train Loss: 0.5957, Train Accuracy: 0.8020\n",
            "Valid Loss: 0.5247, Valid Accuracy: 0.8210\n",
            "=====\n",
            "Epoch 15\n",
            "Train Loss: 0.5934, Train Accuracy: 0.8038\n",
            "Valid Loss: 0.4910, Valid Accuracy: 0.8398\n",
            "=====\n",
            "Epoch 16\n",
            "Train Loss: 0.5950, Train Accuracy: 0.8022\n",
            "Valid Loss: 0.5032, Valid Accuracy: 0.8277\n",
            "=====\n",
            "Epoch 17\n",
            "Train Loss: 0.5950, Train Accuracy: 0.8045\n",
            "Valid Loss: 0.4849, Valid Accuracy: 0.8420\n",
            "=====\n",
            "Epoch 18\n",
            "Train Loss: 0.5966, Train Accuracy: 0.8019\n",
            "Valid Loss: 0.5075, Valid Accuracy: 0.8263\n",
            "=====\n",
            "Epoch 19\n",
            "Train Loss: 0.5948, Train Accuracy: 0.8031\n",
            "Valid Loss: 0.5023, Valid Accuracy: 0.8310\n",
            "=====\n",
            "Epoch 20\n",
            "Train Loss: 0.5925, Train Accuracy: 0.8038\n",
            "Valid Loss: 0.5450, Valid Accuracy: 0.8148\n",
            "=====\n",
            "Test Loss: 0.5356, Test Accuracy: 0.8252\n"
          ]
        }
      ]
    },
    {
      "cell_type": "markdown",
      "source": [
        "학습률 0.001의 잠재적 이점\n",
        "\n",
        "1) 더 낮은 학습률은 파라미터 업데이트가 더 작고, 점진적으로 이루어지기 때문에 학습 과정이 더 안정적일 수 있다.\n",
        "\n",
        "2) 과적합 방지: 낮은 학습률은 과적합을 방지하는 데 도움을 줄 수 있으며, 검증 손실(validation loss)의 감소가 훈련 손실(training loss)보다 느리지 않게 만들 수 있다."
      ],
      "metadata": {
        "id": "cfUFAXiYpUCG"
      }
    },
    {
      "cell_type": "markdown",
      "source": [
        "학습률을 0.001로 설정함에 따라 여러 요인들을 고려하여 epoch를 20으로 설정함."
      ],
      "metadata": {
        "id": "enwFr1x2a64R"
      }
    }
  ]
}