{
  "nbformat": 4,
  "nbformat_minor": 0,
  "metadata": {
    "colab": {
      "provenance": [],
      "gpuType": "T4",
      "toc_visible": true
    },
    "kernelspec": {
      "name": "python3",
      "display_name": "Python 3"
    },
    "language_info": {
      "name": "python"
    },
    "accelerator": "GPU"
  },
  "cells": [
    {
      "cell_type": "markdown",
      "source": [
        "##DL_HW1_60201561_김아영\n",
        "\n"
      ],
      "metadata": {
        "id": "kvq-a7Hg1uJl"
      }
    },
    {
      "cell_type": "code",
      "execution_count": null,
      "metadata": {
        "id": "JPFoIvyIKJ56"
      },
      "outputs": [],
      "source": [
        "# DL_HW1_60201561_김아영"
      ]
    },
    {
      "cell_type": "markdown",
      "source": [
        "##1. MNIST data를 Logistic Regression으로 classification\n",
        "- 1000 epoch 단위로 train / test accuracy 출력"
      ],
      "metadata": {
        "id": "UUP2zuBi2Rwu"
      }
    },
    {
      "cell_type": "code",
      "source": [
        "import torch\n",
        "import torch.nn as nn\n",
        "import numpy as np\n",
        "from sklearn import metrics\n",
        "from sklearn.datasets import fetch_openml"
      ],
      "metadata": {
        "id": "IxZR-TtgKUVr"
      },
      "execution_count": null,
      "outputs": []
    },
    {
      "cell_type": "code",
      "source": [
        "mnist = fetch_openml('mnist_784')\n",
        "print(mnist.data.shape, mnist.target.shape)"
      ],
      "metadata": {
        "colab": {
          "base_uri": "https://localhost:8080/"
        },
        "id": "eFbSi0FEKdaN",
        "outputId": "98337141-322b-4667-e3dc-b30323f0460c"
      },
      "execution_count": null,
      "outputs": [
        {
          "output_type": "stream",
          "name": "stderr",
          "text": [
            "/usr/local/lib/python3.10/dist-packages/sklearn/datasets/_openml.py:968: FutureWarning: The default value of `parser` will change from `'liac-arff'` to `'auto'` in 1.4. You can set `parser='auto'` to silence this warning. Therefore, an `ImportError` will be raised from 1.4 if the dataset is dense and pandas is not installed. Note that the pandas parser may return different data types. See the Notes Section in fetch_openml's API doc for details.\n",
            "  warn(\n"
          ]
        },
        {
          "output_type": "stream",
          "name": "stdout",
          "text": [
            "(70000, 784) (70000,)\n"
          ]
        }
      ]
    },
    {
      "cell_type": "code",
      "source": [
        "x_data=mnist.data\n",
        "y_data=mnist.target.astype(int)"
      ],
      "metadata": {
        "id": "wK_szxLIKd5D"
      },
      "execution_count": null,
      "outputs": []
    },
    {
      "cell_type": "code",
      "source": [
        "from sklearn.model_selection import train_test_split"
      ],
      "metadata": {
        "id": "vZTlf_oWKeAb"
      },
      "execution_count": null,
      "outputs": []
    },
    {
      "cell_type": "code",
      "source": [
        "device = torch.device(\"cuda\" if torch.cuda.is_available() else \"cpu\")\n",
        "print(device)"
      ],
      "metadata": {
        "colab": {
          "base_uri": "https://localhost:8080/"
        },
        "id": "Xn2V3QM3LICG",
        "outputId": "ac560bcb-573d-4b72-df7b-5c0bca6c554b"
      },
      "execution_count": null,
      "outputs": [
        {
          "output_type": "stream",
          "name": "stdout",
          "text": [
            "cuda\n"
          ]
        }
      ]
    },
    {
      "cell_type": "code",
      "source": [
        "x_train, x_test, y_train, y_test = train_test_split(x_data, y_data, test_size=0.20, random_state=42)\n",
        "\n",
        "x_train, x_test=torch.Tensor(x_train.values), torch.Tensor(x_test.values)\n",
        "y_train, y_test=torch.Tensor(y_train.values), torch.Tensor(y_test.values)\n",
        "\n",
        "x_train=x_train.to(device)\n",
        "x_test=x_test.to(device)\n",
        "y_train=y_train.to(device)\n",
        "y_test=y_test.to(device)\n",
        "\n",
        "print(x_train.shape, y_train.shape, x_test.shape, y_test.shape)"
      ],
      "metadata": {
        "colab": {
          "base_uri": "https://localhost:8080/"
        },
        "id": "fXCDGl9ELIFG",
        "outputId": "a712216b-5476-42ab-8522-c5c784771cfe"
      },
      "execution_count": null,
      "outputs": [
        {
          "output_type": "stream",
          "name": "stdout",
          "text": [
            "torch.Size([56000, 784]) torch.Size([56000]) torch.Size([14000, 784]) torch.Size([14000])\n"
          ]
        }
      ]
    },
    {
      "cell_type": "code",
      "source": [
        "class LogisticRegression(torch.nn.Module):\n",
        "  def __init__(self, input_dim, output_dim):\n",
        "    super(LogisticRegression, self).__init__()\n",
        "    self.linear=torch.nn.Linear(input_dim, output_dim)\n",
        "\n",
        "  def forward(self, x):\n",
        "    outputs=torch.sigmoid(self.linear(x))\n",
        "    return outputs"
      ],
      "metadata": {
        "id": "F1QVzMGLLIJM"
      },
      "execution_count": null,
      "outputs": []
    },
    {
      "cell_type": "code",
      "source": [
        "#hyper parameters\n",
        "epochs=10000\n",
        "log_interval=10\n",
        "input_dim=784\n",
        "output_dim=10\n",
        "lr=0.01\n",
        "\n",
        "model=LogisticRegression(input_dim, output_dim)\n",
        "model=model.to(device)\n",
        "criterion=torch.nn.CrossEntropyLoss()\n",
        "optimizer=torch.optim.SGD(model.parameters(), lr=lr)\n",
        "\n",
        "train_loss_arr=[]\n",
        "test_loss_arr=[]\n",
        "\n",
        "for i in range(epochs+1):\n",
        "  #train\n",
        "  model.train()\n",
        "  optimizer.zero_grad()\n",
        "  train_output=model(x_train)\n",
        "  train_loss=criterion(train_output, y_train.long())\n",
        "  train_loss.backward()\n",
        "  optimizer.step()\n",
        "\n",
        "  if (i%10==0):\n",
        "    #test\n",
        "    #10 epoch 마다 loss 저장\n",
        "    model.eval()\n",
        "    _, train_pred=torch.max(train_output.data, axis=1)\n",
        "    with torch.no_grad():\n",
        "      test_output=model(x_test)\n",
        "      _, test_pred=torch.max(test_output.data, axis=1)\n",
        "      test_loss=criterion(test_output, y_test.long())\n",
        "\n",
        "      train_loss_arr.append(train_loss.data)\n",
        "      test_loss_arr.append(test_loss.data)\n",
        "\n",
        "  if(i%1000==0): #1000 epoch마다 출력\n",
        "    print(\"=====\")\n",
        "    print(\"epoch \", i)\n",
        "    print(\"loss\", train_loss.data, test_loss.data)\n",
        "    print(\"train_accuracy {:.03f}\".format(float((train_pred==y_train).sum())/y_train.size(0)))\n",
        "    print(\"test_accuracy {:.03f}\".format(float((test_pred==y_test).sum())/y_test.size(0)))\n"
      ],
      "metadata": {
        "colab": {
          "base_uri": "https://localhost:8080/"
        },
        "id": "8FGSmdXXLIME",
        "outputId": "0bda7214-e4ff-4f36-f700-7de1584d2a16"
      },
      "execution_count": null,
      "outputs": [
        {
          "output_type": "stream",
          "name": "stdout",
          "text": [
            "=====\n",
            "epoch  0\n",
            "loss tensor(2.3970, device='cuda:0') tensor(2.3026, device='cuda:0')\n",
            "train_accuracy 0.087\n",
            "test_accuracy 0.115\n",
            "=====\n",
            "epoch  1000\n",
            "loss tensor(1.5615, device='cuda:0') tensor(1.5704, device='cuda:0')\n",
            "train_accuracy 0.886\n",
            "test_accuracy 0.881\n",
            "=====\n",
            "epoch  2000\n",
            "loss tensor(1.5522, device='cuda:0') tensor(1.5644, device='cuda:0')\n",
            "train_accuracy 0.894\n",
            "test_accuracy 0.889\n",
            "=====\n",
            "epoch  3000\n",
            "loss tensor(1.5485, device='cuda:0') tensor(1.5617, device='cuda:0')\n",
            "train_accuracy 0.898\n",
            "test_accuracy 0.893\n",
            "=====\n",
            "epoch  4000\n",
            "loss tensor(1.5480, device='cuda:0') tensor(1.5607, device='cuda:0')\n",
            "train_accuracy 0.900\n",
            "test_accuracy 0.895\n",
            "=====\n",
            "epoch  5000\n",
            "loss tensor(1.5443, device='cuda:0') tensor(1.5602, device='cuda:0')\n",
            "train_accuracy 0.902\n",
            "test_accuracy 0.894\n",
            "=====\n",
            "epoch  6000\n",
            "loss tensor(1.5434, device='cuda:0') tensor(1.5595, device='cuda:0')\n",
            "train_accuracy 0.903\n",
            "test_accuracy 0.897\n",
            "=====\n",
            "epoch  7000\n",
            "loss tensor(1.5428, device='cuda:0') tensor(1.5588, device='cuda:0')\n",
            "train_accuracy 0.903\n",
            "test_accuracy 0.897\n",
            "=====\n",
            "epoch  8000\n",
            "loss tensor(1.5402, device='cuda:0') tensor(1.5590, device='cuda:0')\n",
            "train_accuracy 0.905\n",
            "test_accuracy 0.897\n",
            "=====\n",
            "epoch  9000\n",
            "loss tensor(1.5392, device='cuda:0') tensor(1.5592, device='cuda:0')\n",
            "train_accuracy 0.905\n",
            "test_accuracy 0.897\n",
            "=====\n",
            "epoch  10000\n",
            "loss tensor(1.5387, device='cuda:0') tensor(1.5595, device='cuda:0')\n",
            "train_accuracy 0.906\n",
            "test_accuracy 0.897\n"
          ]
        }
      ]
    },
    {
      "cell_type": "markdown",
      "source": [
        "- 10 epoch마다 train, test data의 loss를 기록하여 plot"
      ],
      "metadata": {
        "id": "fQzWD3Fx2hmh"
      }
    },
    {
      "cell_type": "code",
      "source": [
        "import matplotlib.pyplot as plt"
      ],
      "metadata": {
        "id": "gycY24NMh3dn"
      },
      "execution_count": null,
      "outputs": []
    },
    {
      "cell_type": "code",
      "source": [
        "# Move tensors to CPU for plotting\n",
        "train_loss_arr_cpu = [loss.cpu().item() for loss in train_loss_arr]\n",
        "test_loss_arr_cpu = [loss.cpu().item() for loss in test_loss_arr]\n",
        "\n",
        "# Plotting the losses\n",
        "plt.figure(figsize=(10, 5))\n",
        "plt.plot(range(0, epochs+1, log_interval), train_loss_arr_cpu, label='Train Loss')\n",
        "plt.plot(range(0, epochs+1, log_interval), test_loss_arr_cpu, label='Test Loss')\n",
        "plt.xlabel('Epochs')\n",
        "plt.ylabel('Loss')\n",
        "plt.title('Training and Testing Loss')\n",
        "plt.legend()\n",
        "plt.grid(True)\n",
        "plt.show()\n"
      ],
      "metadata": {
        "colab": {
          "base_uri": "https://localhost:8080/",
          "height": 487
        },
        "id": "jy3cxJZFLIOO",
        "outputId": "976c50c8-c797-41dd-f204-8d0d239f29ca"
      },
      "execution_count": null,
      "outputs": [
        {
          "output_type": "display_data",
          "data": {
            "text/plain": [
              "<Figure size 1000x500 with 1 Axes>"
            ],
            "image/png": "[encoded data removed]"
          },
          "metadata": {}
        }
      ]
    },
    {
      "cell_type": "markdown",
      "source": [
        "###2. Accuracy를 올리기 위해서 무엇을 추가할 수 있는가?\n",
        "\n",
        "Accuracy를 올리기 위해서 로지스틱 회귀보다 더 복잡한 모델을 사용하여 데이터의 더 다양한 패턴을 학습할 수 있습니다.\n",
        "\n",
        "예를 들어, 다층 퍼셉트론(MLP)을 사용할 수 있습니다."
      ],
      "metadata": {
        "id": "DxXbbjX11IDf"
      }
    },
    {
      "cell_type": "code",
      "source": [
        "import torch\n",
        "import torch.nn as nn\n",
        "import numpy as np\n",
        "from sklearn.datasets import fetch_openml\n",
        "from sklearn.model_selection import train_test_split\n",
        "from torchvision import datasets, transforms\n",
        "\n",
        "# Fetching MNIST dataset\n",
        "mnist = fetch_openml('mnist_784')\n",
        "\n",
        "x_data = mnist.data\n",
        "y_data = mnist.target.astype(int)\n",
        "\n",
        "device = torch.device(\"cuda\" if torch.cuda.is_available() else \"cpu\")\n",
        "\n",
        "x_train, x_test, y_train, y_test = train_test_split(x_data, y_data, test_size=0.20, random_state=42)\n",
        "\n",
        "x_train, x_test = torch.Tensor(x_train.values), torch.Tensor(x_test.values)\n",
        "y_train, y_test = torch.Tensor(y_train.values), torch.Tensor(y_test.values)\n",
        "\n",
        "x_train, x_test = x_train.to(device), x_test.to(device)\n",
        "y_train, y_test = y_train.to(device), y_test.to(device)\n",
        "\n",
        "# Define transformations for data augmentation\n",
        "transform = transforms.Compose([\n",
        "    transforms.ToTensor(),\n",
        "    transforms.Normalize((0.1307,), (0.3081,))  # Normalize data\n",
        "])\n",
        "\n",
        "# Load the MNIST dataset with normalization\n",
        "train_dataset = datasets.MNIST(root='./data', train=True, download=True, transform=transform)\n",
        "test_dataset = datasets.MNIST(root='./data', train=False, download=True, transform=transform)\n",
        "\n",
        "# DataLoader for batching and shuffling data\n",
        "train_loader = torch.utils.data.DataLoader(dataset=train_dataset, batch_size=64, shuffle=True)\n",
        "test_loader = torch.utils.data.DataLoader(dataset=test_dataset, batch_size=64, shuffle=False)\n",
        "\n",
        "# Improved MLP Model\n",
        "class ImprovedMLP(torch.nn.Module):\n",
        "    def __init__(self):\n",
        "        super(ImprovedMLP, self).__init__()\n",
        "        self.fc1 = torch.nn.Linear(28*28, 512)\n",
        "        self.fc2 = torch.nn.Linear(512, 256)\n",
        "        self.fc3 = torch.nn.Linear(256, 10)\n",
        "        self.dropout = torch.nn.Dropout(0.5)  # Dropout layer to prevent overfitting\n",
        "\n",
        "    def forward(self, x):\n",
        "        x = torch.relu(self.fc1(x))\n",
        "        x = self.dropout(x)\n",
        "        x = torch.relu(self.fc2(x))\n",
        "        x = self.dropout(x)\n",
        "        x = torch.softmax(self.fc3(x), dim=1)\n",
        "        return x\n",
        "\n",
        "# Hyperparameters\n",
        "lr = 0.001\n",
        "epochs = 10000\n",
        "\n",
        "# Model Initialization\n",
        "model = ImprovedMLP().to(device)\n",
        "criterion = nn.CrossEntropyLoss()\n",
        "optimizer = torch.optim.Adam(model.parameters(), lr=lr)\n",
        "\n",
        "train_loss_arr = []\n",
        "test_loss_arr = []\n",
        "\n",
        "for i in range(epochs+1):\n",
        "  #train\n",
        "  model.train()\n",
        "  optimizer.zero_grad()\n",
        "  train_output=model(x_train)\n",
        "  train_loss=criterion(train_output, y_train.long())\n",
        "  train_loss.backward()\n",
        "  optimizer.step()\n",
        "\n",
        "  if (i%10==0):\n",
        "    #test\n",
        "    #10 epoch 마다 loss 저장\n",
        "    model.eval()\n",
        "    _, train_pred=torch.max(train_output.data, axis=1)\n",
        "    with torch.no_grad():\n",
        "      test_output=model(x_test)\n",
        "      _, test_pred=torch.max(test_output.data, axis=1)\n",
        "      test_loss=criterion(test_output, y_test.long())\n",
        "\n",
        "      train_loss_arr.append(train_loss.data)\n",
        "      test_loss_arr.append(test_loss.data)\n",
        "\n",
        "  if(i%1000==0): #1000 epoch마다 출력\n",
        "    print(\"=====\")\n",
        "    print(\"epoch \", i)\n",
        "    print(\"loss\", train_loss.data, test_loss.data)\n",
        "    print(\"train_accuracy {:.03f}\".format(float((train_pred==y_train).sum())/y_train.size(0)))\n",
        "    print(\"test_accuracy {:.03f}\".format(float((test_pred==y_test).sum())/y_test.size(0)))"
      ],
      "metadata": {
        "id": "fIslY8HbLIQz"
      },
      "execution_count": null,
      "outputs": []
    }
  ]
}